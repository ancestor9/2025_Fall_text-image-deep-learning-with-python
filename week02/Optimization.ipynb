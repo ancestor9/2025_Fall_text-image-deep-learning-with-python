{
  "nbformat": 4,
  "nbformat_minor": 0,
  "metadata": {
    "colab": {
      "provenance": [],
      "authorship_tag": "ABX9TyP+9wDRMZIB3hY4mQ+y/+Vg",
      "include_colab_link": true
    },
    "kernelspec": {
      "name": "python3",
      "display_name": "Python 3"
    },
    "language_info": {
      "name": "python"
    }
  },
  "cells": [
    {
      "cell_type": "markdown",
      "metadata": {
        "id": "view-in-github",
        "colab_type": "text"
      },
      "source": [
        "<a href=\"https://colab.research.google.com/github/ancestor9/2025_Fall_text-image-deep-learning-with-python/blob/main/week02/Optimization.ipynb\" target=\"_parent\"><img src=\"https://colab.research.google.com/assets/colab-badge.svg\" alt=\"Open In Colab\"/></a>"
      ]
    },
    {
      "cell_type": "code",
      "execution_count": 1,
      "metadata": {
        "colab": {
          "base_uri": "https://localhost:8080/"
        },
        "id": "h4ZoaaSb_j9Q",
        "outputId": "f2e37e87-d831-416a-908a-3e36e5940da2"
      },
      "outputs": [
        {
          "output_type": "stream",
          "name": "stdout",
          "text": [
            "기울기 (a): 1.23\n",
            "절편 (b): 1.64\n"
          ]
        }
      ],
      "source": [
        "import sympy as sp\n",
        "\n",
        "# 데이터 정의\n",
        "X = [2, 3, 4, 5, 7]\n",
        "Y = [4, 6, 5, 9, 10]\n",
        "\n",
        "# 변수 a(기울기)와 b(절편)를 sympy의 심볼로 정의\n",
        "a, b = sp.symbols('a b')\n",
        "\n",
        "# 오차 함수 (제곱 오차의 합) 정의\n",
        "error_func = sum([(Y[i] - (a * X[i] + b))**2 for i in range(len(X))])\n",
        "\n",
        "# 오차 함수를 a와 b에 대해 각각 미분\n",
        "diff_a = sp.diff(error_func, a)\n",
        "diff_b = sp.diff(error_func, b)\n",
        "\n",
        "# 미분값이 0이 되는 연립방정식 풀기\n",
        "solution = sp.solve((diff_a, diff_b), (a, b))\n",
        "\n",
        "# 결과 출력\n",
        "print(f\"기울기 (a): {solution[a]:.2f}\")\n",
        "print(f\"절편 (b): {solution[b]:.2f}\")"
      ]
    },
    {
      "cell_type": "code",
      "source": [
        "from sklearn.linear_model import LinearRegression\n",
        "import numpy as np\n",
        "\n",
        "# 데이터 정의 (numpy array로 변환)\n",
        "X = np.array([2, 3, 4, 5, 7]).reshape(-1, 1) # scikit-learn은 2D array를 기대합니다.\n",
        "Y = np.array([4, 6, 5, 9, 10])\n",
        "\n",
        "# LinearRegression 모델 생성\n",
        "model = LinearRegression()\n",
        "\n",
        "# 모델 학습\n",
        "model.fit(X, Y)\n",
        "\n",
        "# 결과 출력\n",
        "print(f\"기울기 (a): {model.coef_[0]:.2f}\")\n",
        "print(f\"절편 (b): {model.intercept_:.2f}\")"
      ],
      "metadata": {
        "colab": {
          "base_uri": "https://localhost:8080/"
        },
        "id": "qEn6WCwL_ocj",
        "outputId": "c7f447da-3838-40af-bf0e-1e550934013a"
      },
      "execution_count": 2,
      "outputs": [
        {
          "output_type": "stream",
          "name": "stdout",
          "text": [
            "기울기 (a): 1.23\n",
            "절편 (b): 1.64\n"
          ]
        }
      ]
    },
    {
      "cell_type": "code",
      "source": [
        "import numpy as np\n",
        "\n",
        "# 데이터 정의\n",
        "X = np.array([2, 3, 4, 5, 7])\n",
        "Y = np.array([4, 6, 5, 9, 10])\n",
        "\n",
        "# 초기 기울기와 절편 설정 (임의의 값)\n",
        "a = 0\n",
        "b = 0\n",
        "\n",
        "# 학습률(learning_rate) 설정\n",
        "# 한 번의 업데이트마다 이동할 보폭을 결정\n",
        "learning_rate = 0.01\n",
        "\n",
        "# 반복 횟수 설정\n",
        "epochs = 1000\n",
        "\n",
        "# 경사하강법 시뮬레이션\n",
        "for i in range(epochs):\n",
        "    # 예측값 계산\n",
        "    y_pred = a * X + b\n",
        "\n",
        "    # 오차 계산\n",
        "    error = y_pred - Y\n",
        "\n",
        "    # 비용 함수(제곱 오차)를 a와 b에 대해 미분한 값(경사) 계산\n",
        "    # 경사는 오차를 기반으로 계산되며, 오차가 클수록 경사도 커집니다.\n",
        "    gradient_a = np.sum(error * X) / len(X)\n",
        "    gradient_b = np.sum(error) / len(X)\n",
        "\n",
        "    # 기울기와 절편 업데이트\n",
        "    a = a - learning_rate * gradient_a\n",
        "    b = b - learning_rate * gradient_b\n",
        "\n",
        "# 최종 결과 출력\n",
        "print(f\"기울기 (a): {a:.2f}\")\n",
        "print(f\"절편 (b): {b:.2f}\")"
      ],
      "metadata": {
        "colab": {
          "base_uri": "https://localhost:8080/"
        },
        "id": "5VxY_Em6Ae-E",
        "outputId": "99b6f723-0bd7-451b-c599-9c310ed0873d"
      },
      "execution_count": 5,
      "outputs": [
        {
          "output_type": "stream",
          "name": "stdout",
          "text": [
            "기울기 (a): 1.30\n",
            "절편 (b): 1.30\n"
          ]
        }
      ]
    },
    {
      "cell_type": "code",
      "metadata": {
        "colab": {
          "base_uri": "https://localhost:8080/"
        },
        "id": "4b4613c9",
        "outputId": "acef5bb6-f945-4d7e-d094-d64d9ab80fe0"
      },
      "source": [
        "import numpy as np\n",
        "\n",
        "def calculate_slope_intercept(X, Y):\n",
        "  \"\"\"\n",
        "  Calculates the slope and intercept of a linear regression line using NumPy.\n",
        "\n",
        "  Args:\n",
        "    X: A NumPy array of the independent variable.\n",
        "    Y: A NumPy array of the dependent variable.\n",
        "\n",
        "  Returns:\n",
        "    A tuple containing the slope (a) and intercept (b).\n",
        "  \"\"\"\n",
        "  n = len(X)\n",
        "  # Calculate the means of X and Y\n",
        "  mean_X = np.mean(X)\n",
        "  mean_Y = np.mean(Y)\n",
        "\n",
        "  # Calculate the numerator and denominator for the slope (a)\n",
        "  numerator = np.sum((X - mean_X) * (Y - mean_Y))\n",
        "  denominator = np.sum((X - mean_X)**2)\n",
        "\n",
        "  # Calculate the slope (a)\n",
        "  a = numerator / denominator\n",
        "\n",
        "  # Calculate the intercept (b)\n",
        "  b = mean_Y - a * mean_X\n",
        "\n",
        "  return a, b\n",
        "\n",
        "# 데이터 정의\n",
        "X = np.array([2, 3, 4, 5, 7])\n",
        "Y = np.array([4, 6, 5, 9, 10])\n",
        "\n",
        "# 사용자 정의 함수를 사용하여 기울기와 절편 계산\n",
        "slope, intercept = calculate_slope_intercept(X, Y)\n",
        "\n",
        "# 결과 출력\n",
        "print(f\"기울기 (a): {slope:.2f}\")\n",
        "print(f\"절편 (b): {intercept:.2f}\")"
      ],
      "execution_count": 3,
      "outputs": [
        {
          "output_type": "stream",
          "name": "stdout",
          "text": [
            "기울기 (a): 1.23\n",
            "절편 (b): 1.64\n"
          ]
        }
      ]
    },
    {
      "cell_type": "code",
      "metadata": {
        "colab": {
          "base_uri": "https://localhost:8080/",
          "height": 472
        },
        "id": "f9b4e29e",
        "outputId": "883a2ba6-8c89-430a-e227-fd2311eebdb8"
      },
      "source": [
        "import matplotlib.pyplot as plt\n",
        "import numpy as np\n",
        "\n",
        "# Original data\n",
        "X = np.array([2, 3, 4, 5, 7])\n",
        "Y = np.array([4, 6, 5, 9, 10])\n",
        "\n",
        "# Calculate predicted Y values using the slope and intercept from the previous step\n",
        "# Using the slope and intercept from the custom function for consistency\n",
        "slope = 1.23 # Using the rounded value from the previous output\n",
        "intercept = 1.64 # Using the rounded value from the previous output\n",
        "\n",
        "Y_pred = slope * X + intercept\n",
        "\n",
        "# Plotting the original data and the regression line\n",
        "plt.scatter(X, Y, label='Original Data')\n",
        "plt.plot(X, Y_pred, color='red', label='Regression Line')\n",
        "plt.xlabel('X')\n",
        "plt.ylabel('Y')\n",
        "plt.title('Linear Regression: Original Data vs. Predicted Data')\n",
        "plt.legend()\n",
        "plt.grid(True)\n",
        "plt.show()"
      ],
      "execution_count": 4,
      "outputs": [
        {
          "output_type": "display_data",
          "data": {
            "text/plain": [
              "<Figure size 640x480 with 1 Axes>"
            ],
            "image/png": "[encoded data removed]"
          },
          "metadata": {}
        }
      ]
    },
    {
      "cell_type": "code",
      "source": [
        "# Perceptron\n",
        "\n",
        "import sympy as sp\n",
        "import numpy as np\n",
        "\n",
        "def train_perceptron_with_sympy(X_data, Y_data, learning_rate, epochs):\n",
        "    \"\"\"\n",
        "    SymPy를 사용해 경사하강법으로 단일 퍼셉트론을 학습하는 함수.\n",
        "\n",
        "    Args:\n",
        "        X_data (np.array): 입력 데이터 (2D 배열)\n",
        "        Y_data (np.array): 실제 출력 (1D 배열)\n",
        "        learning_rate (float): 학습률\n",
        "        epochs (int): 학습 반복 횟수\n",
        "\n",
        "    Returns:\n",
        "        tuple: 학습된 가중치 w1, w2 및 편향 b (SymPy Float 객체), epoch별 총 손실 리스트\n",
        "    \"\"\"\n",
        "    # 심볼 변수 정의\n",
        "    w1, w2, b = sp.symbols('w1 w2 b')\n",
        "\n",
        "    # Sigmoid 활성화 함수 (SymPy 심볼릭 표현)\n",
        "    def sigmoid(z):\n",
        "        return 1 / (1 + sp.exp(-z))\n",
        "\n",
        "    # 경사하강법을 위한 변수 초기화\n",
        "    w1_val, w2_val, b_val = 0.5, 0.5, 0.5  # 임의의 초기값 설정\n",
        "\n",
        "    # epoch별 총 손실을 저장할 리스트 초기화\n",
        "    loss_history = []\n",
        "\n",
        "    for epoch in range(epochs):\n",
        "        # 손실 함수 (이진 크로스 엔트로피)\n",
        "        total_loss = 0\n",
        "\n",
        "        # 각 데이터 포인트에 대해 순전파 및 손실 계산\n",
        "        for i in range(len(X_data)):\n",
        "            x1_val, x2_val = X_data[i]\n",
        "            y_true = Y_data[i]\n",
        "\n",
        "            # 순전파: 선형 결합 및 활성화 함수 적용\n",
        "            z = w1 * x1_val + w2 * x2_val + b\n",
        "            y_pred = sigmoid(z)\n",
        "\n",
        "            # 손실 함수: -[y_true * log(y_pred) + (1-y_true) * log(1-y_pred)]\n",
        "            # SymPy의 log 함수 사용\n",
        "            # log(0) 또는 log(1) 방지를 위해 작은 값(epsilon)을 더하거나 뺍니다.\n",
        "            epsilon = 1e-15\n",
        "            loss = -(y_true * sp.log(y_pred + epsilon) + (1 - y_true) * sp.log(1 - y_pred + epsilon))\n",
        "            total_loss += loss.subs({w1: w1_val, w2: w2_val, b: b_val, sp.Symbol('x1_val'): x1_val, sp.Symbol('x2_val'): x2_val})\n",
        "\n",
        "\n",
        "        # 현재 epoch의 총 손실을 리스트에 추가\n",
        "        loss_history.append(float(total_loss))\n",
        "\n",
        "        # 손실 함수를 w1, w2, b에 대해 미분\n",
        "        # 미분 전에 subs를 사용하여 현재 값으로 대체합니다.\n",
        "        grad_w1 = sp.diff(total_loss, w1).subs({w1: w1_val, w2: w2_val, b: b_val})\n",
        "        grad_w2 = sp.diff(total_loss, w2).subs({w1: w1_val, w2: w2_val, b: b_val})\n",
        "        grad_b = sp.diff(total_loss, b).subs({w1: w1_val, w2: w2_val, b: b_val})\n",
        "\n",
        "\n",
        "        # 현재 변수 값 대입하여 경사 값 계산\n",
        "        grad_w1_val = float(grad_w1)\n",
        "        grad_w2_val = float(grad_w2)\n",
        "        grad_b_val = float(grad_b)\n",
        "\n",
        "\n",
        "        # 경사하강법으로 가중치와 편향 업데이트\n",
        "        w1_val -= learning_rate * grad_w1_val\n",
        "        w2_val -= learning_rate * grad_w2_val\n",
        "        b_val -= learning_rate * grad_b_val\n",
        "\n",
        "    return w1_val, w2_val, b_val, loss_history\n",
        "\n",
        "# XOR 문제 데이터셋\n",
        "# 입력 X_data (2개의 입력 변수), 출력 Y_data\n",
        "X_xor = np.array([[0, 0], [0, 1], [1, 0], [1, 1]])\n",
        "Y_xor = np.array([0, 1, 1, 0])\n",
        "\n",
        "# 학습 파라미터\n",
        "learning_rate = 0.01\n",
        "epochs = 1000  # 에포크 횟수 증가\n",
        "\n",
        "# 학습 실행\n",
        "trained_w1, trained_w2, trained_b, loss_history = train_perceptron_with_sympy(X_xor, Y_xor, learning_rate, epochs)\n",
        "\n",
        "print(f\"학습된 가중치와 편향:\")\n",
        "print(f\"w1: {trained_w1:.4f}\")\n",
        "print(f\"w2: {trained_w2:.4f}\")\n",
        "print(f\"b: {trained_b:.4f}\")\n",
        "\n",
        "print(\"\\n------------------------------\")\n",
        "\n",
        "# 학습된 모델로 예측 수행\n",
        "def predict(x1, x2, w1, w2, b):\n",
        "    # 선형 결합\n",
        "    z = w1 * x1 + w2 * x2 + b\n",
        "    # 활성화 함수 (시그모이드)\n",
        "    output = 1 / (1 + np.exp(-z))\n",
        "    # 이진 분류 (0.5를 기준으로 분류)\n",
        "    return 1 if output >= 0.5 else 0\n",
        "\n",
        "print(\"XOR 문제 예측 결과:\")\n",
        "for i in range(len(X_xor)):\n",
        "    x1, x2 = X_xor[i]\n",
        "    y_true = Y_xor[i]\n",
        "    # Convert SymPy Floats to standard floats for the predict function\n",
        "    y_pred = predict(x1, x2, float(trained_w1), float(trained_w2), float(trained_b))\n",
        "    print(f\"입력: ({x1}, {x2}), 실제값: {y_true}, 예측값: {y_pred}\")\n",
        "\n",
        "print(\"\\n------------------------------\")\n",
        "print(\"Epoch별 총 손실 변화:\")\n",
        "# Optionally print or plot the loss_history to visualize the training process\n",
        "# For brevity, we'll just print the first and last few loss values\n",
        "print(f\"첫 10개 손실값: {loss_history[:10]}\")\n",
        "print(f\"마지막 10개 손실값: {loss_history[-10:]}\")"
      ],
      "metadata": {
        "colab": {
          "base_uri": "https://localhost:8080/"
        },
        "id": "IwXp4b0IB3Il",
        "outputId": "7b167724-6145-4ddf-c935-aa251d60c3ea"
      },
      "execution_count": 10,
      "outputs": [
        {
          "output_type": "stream",
          "name": "stdout",
          "text": [
            "학습된 가중치와 편향:\n",
            "w1: 0.5000\n",
            "w2: 0.5000\n",
            "b: 0.5000\n",
            "\n",
            "------------------------------\n",
            "XOR 문제 예측 결과:\n",
            "입력: (0, 0), 실제값: 0, 예측값: 1\n",
            "입력: (0, 1), 실제값: 1, 예측값: 1\n",
            "입력: (1, 0), 실제값: 1, 예측값: 1\n",
            "입력: (1, 1), 실제값: 0, 예측값: 1\n",
            "\n",
            "------------------------------\n",
            "Epoch별 총 손실 변화:\n",
            "첫 10개 손실값: [3.302013637199293, 3.302013637199293, 3.302013637199293, 3.302013637199293, 3.302013637199293, 3.302013637199293, 3.302013637199293, 3.302013637199293, 3.302013637199293, 3.302013637199293]\n",
            "마지막 10개 손실값: [3.302013637199293, 3.302013637199293, 3.302013637199293, 3.302013637199293, 3.302013637199293, 3.302013637199293, 3.302013637199293, 3.302013637199293, 3.302013637199293, 3.302013637199293]\n"
          ]
        }
      ]
    },
    {
      "cell_type": "code",
      "source": [
        "# MLP, 다중 펴셉트론\n",
        "\n",
        "import numpy as np\n",
        "\n",
        "# Sigmoid activation function and its derivative\n",
        "def sigmoid(x):\n",
        "    return 1 / (1 + np.exp(-x))\n",
        "\n",
        "def sigmoid_derivative(x):\n",
        "    return x * (1 - x)\n",
        "\n",
        "# XOR data\n",
        "X = np.array([[0, 0], [0, 1], [1, 0], [1, 1]])\n",
        "Y = np.array([[0], [1], [1], [0]]) # Output needs to be 2D for matrix operations\n",
        "\n",
        "# Network architecture parameters\n",
        "input_layer_size = 2\n",
        "hidden_layer_size = 4 # A common choice for XOR\n",
        "output_layer_size = 1\n",
        "\n",
        "# Initialize weights and biases\n",
        "# Using random initialization\n",
        "np.random.seed(42) # for reproducibility\n",
        "weights_input_hidden = np.random.uniform(size=(input_layer_size, hidden_layer_size))\n",
        "bias_hidden = np.random.uniform(size=(1, hidden_layer_size))\n",
        "weights_hidden_output = np.random.uniform(size=(hidden_layer_size, output_layer_size))\n",
        "bias_output = np.random.uniform(size=(1, output_layer_size))\n",
        "\n",
        "# Learning parameters\n",
        "learning_rate = 0.1\n",
        "epochs = 10000 # Increased epochs for better training\n",
        "\n",
        "# Lists to store training progress\n",
        "loss_history = []\n",
        "weights_input_hidden_history = []\n",
        "bias_hidden_history = []\n",
        "weights_hidden_output_history = []\n",
        "bias_output_history = []\n",
        "\n",
        "\n",
        "# Training loop\n",
        "for epoch in range(epochs):\n",
        "    # Forward Pass\n",
        "    # Input to hidden layer\n",
        "    hidden_layer_input = np.dot(X, weights_input_hidden) + bias_hidden\n",
        "    hidden_layer_output = sigmoid(hidden_layer_input)\n",
        "\n",
        "    # Hidden to output layer\n",
        "    output_layer_input = np.dot(hidden_layer_output, weights_hidden_output) + bias_output\n",
        "    predicted_output = sigmoid(output_layer_input)\n",
        "\n",
        "    # Calculate loss (Mean Squared Error for simplicity in this example)\n",
        "    loss = np.mean((Y - predicted_output)**2)\n",
        "    loss_history.append(loss)\n",
        "\n",
        "    # Backpropagation\n",
        "    # Output layer error\n",
        "    error_output_layer = Y - predicted_output\n",
        "\n",
        "    # Output layer delta (gradient)\n",
        "    # Derivative of loss with respect to output * Derivative of sigmoid\n",
        "    delta_output_layer = error_output_layer * sigmoid_derivative(predicted_output)\n",
        "\n",
        "    # Hidden layer error\n",
        "    # Error propagated from output layer\n",
        "    error_hidden_layer = np.dot(delta_output_layer, weights_hidden_output.T)\n",
        "\n",
        "    # Hidden layer delta (gradient)\n",
        "    delta_hidden_layer = error_hidden_layer * sigmoid_derivative(hidden_layer_output)\n",
        "\n",
        "    # Update weights and biases\n",
        "    # Update weights from hidden to output layer\n",
        "    weights_hidden_output += np.dot(hidden_layer_output.T, delta_output_layer) * learning_rate\n",
        "    bias_output += np.sum(delta_output_layer, axis=0, keepdims=True) * learning_rate\n",
        "\n",
        "    # Update weights from input to hidden layer\n",
        "    weights_input_hidden += np.dot(X.T, delta_hidden_layer) * learning_rate\n",
        "    bias_hidden += np.sum(delta_hidden_layer, axis=0, keepdims=True) * learning_rate\n",
        "\n",
        "    # Store weights and biases (optional, can be memory intensive for large networks)\n",
        "    # Storing copies to avoid issues with references\n",
        "    weights_input_hidden_history.append(weights_input_hidden.copy())\n",
        "    bias_hidden_history.append(bias_hidden.copy())\n",
        "    weights_hidden_output_history.append(weights_hidden_output.copy())\n",
        "    bias_output_history.append(bias_output.copy())\n",
        "\n",
        "\n",
        "# Print final predictions\n",
        "print(\"XOR problem predictions after training:\")\n",
        "print(predicted_output.round())\n",
        "\n",
        "# Evaluate accuracy (simple check for XOR)\n",
        "accuracy = np.mean((predicted_output.round() == Y).astype(float))\n",
        "print(f\"\\nTraining Accuracy: {accuracy:.2f}\")\n",
        "\n",
        "print(\"\\nTraining History:\")\n",
        "print(f\"Loss History (first 10): {loss_history[:10]}\")\n",
        "print(f\"Loss History (last 10): {loss_history[-10:]}\")\n",
        "# You can similarly print or analyze the history of weights and biases\n",
        "# print(f\"Weights Input to Hidden History (first): {weights_input_hidden_history[0]}\")\n",
        "# print(f\"Bias Hidden History (first): {bias_hidden_history[0]}\")"
      ],
      "metadata": {
        "colab": {
          "base_uri": "https://localhost:8080/"
        },
        "id": "lssp4Mv2B39a",
        "outputId": "777d1db2-7ff3-46b1-a505-638cdba645f5"
      },
      "execution_count": 13,
      "outputs": [
        {
          "output_type": "stream",
          "name": "stdout",
          "text": [
            "XOR problem predictions after training:\n",
            "[[0.]\n",
            " [1.]\n",
            " [1.]\n",
            " [0.]]\n",
            "\n",
            "Training Accuracy: 1.00\n",
            "\n",
            "Training History:\n",
            "Loss History (first 10): [np.float64(0.332182504663897), np.float64(0.32640871562746154), np.float64(0.32067806905786256), np.float64(0.3150352863637533), np.float64(0.3095253333249339), np.float64(0.3041917054608754), np.float64(0.2990746878621381), np.float64(0.2942097425385022), np.float64(0.2896261708932667), np.float64(0.28534617004679985)]\n",
            "Loss History (last 10): [np.float64(0.003704526736258776), np.float64(0.003703608451293683), np.float64(0.003702690572561018), np.float64(0.0037017730998080553), np.float64(0.003700856032782241), np.float64(0.003699939371231235), np.float64(0.0036990231149028868), np.float64(0.0036981072635452533), np.float64(0.003697191816906575), np.float64(0.0036962767747353346)]\n"
          ]
        }
      ]
    },
    {
      "cell_type": "code",
      "source": [],
      "metadata": {
        "id": "KUqEqFNVDd5b"
      },
      "execution_count": null,
      "outputs": []
    },
    {
      "cell_type": "code",
      "metadata": {
        "colab": {
          "base_uri": "https://localhost:8080/",
          "height": 564
        },
        "id": "2cf5ce21",
        "outputId": "5920aa24-7ab6-4c3a-b0da-488ee5dfa2b3"
      },
      "source": [
        "import matplotlib.pyplot as plt\n",
        "\n",
        "# Plot the loss history\n",
        "plt.figure(figsize=(10, 6))\n",
        "plt.plot(loss_history)\n",
        "plt.xlabel('Epoch')\n",
        "plt.ylabel('Loss (Mean Squared Error)')\n",
        "plt.title('Training Loss History')\n",
        "plt.grid(True)\n",
        "plt.show()"
      ],
      "execution_count": 14,
      "outputs": [
        {
          "output_type": "display_data",
          "data": {
            "text/plain": [
              "<Figure size 1000x600 with 1 Axes>"
            ],
            "image/png": "[encoded data removed]"
          },
          "metadata": {}
        }
      ]
    }
  ]
}