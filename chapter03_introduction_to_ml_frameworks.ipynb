{
  "cells": [
    {
      "cell_type": "markdown",
      "metadata": {
        "id": "view-in-github",
        "colab_type": "text"
      },
      "source": [
        "<a href=\"https://colab.research.google.com/github/ancestor9/2025_Fall_text-image-deep-learning-with-python/blob/main/chapter03_introduction_to_ml_frameworks.ipynb\" target=\"_parent\"><img src=\"https://colab.research.google.com/assets/colab-badge.svg\" alt=\"Open In Colab\"/></a>"
      ]
    },
    {
      "cell_type": "markdown",
      "metadata": {
        "id": "1ZvaiTJrz7iD"
      },
      "source": [
        "This is a companion notebook for the book [Deep Learning with Python, Third Edition](https://www.manning.com/books/deep-learning-with-python-third-edition). For readability, it only contains runnable code blocks and section titles, and omits everything else in the book: text paragraphs, figures, and pseudocode.\n",
        "\n",
        "**If you want to be able to follow what's going on, I recommend reading the notebook side by side with your copy of the book.**\n",
        "\n",
        "The book's contents are available online at [deeplearningwithpython.io](https://deeplearningwithpython.io)."
      ]
    },
    {
      "cell_type": "code",
      "execution_count": 1,
      "metadata": {
        "id": "XuH0qcZsz7iH",
        "colab": {
          "base_uri": "https://localhost:8080/"
        },
        "outputId": "29a85596-29e9-4180-8330-40cd13fb5b9e"
      },
      "outputs": [
        {
          "output_type": "stream",
          "name": "stdout",
          "text": [
            "\u001b[2K   \u001b[90m━━━━━━━━━━━━━━━━━━━━━━━━━━━━━━━━━━━━━━━━\u001b[0m \u001b[32m1.4/1.4 MB\u001b[0m \u001b[31m17.6 MB/s\u001b[0m eta \u001b[36m0:00:00\u001b[0m\n",
            "\u001b[2K   \u001b[90m━━━━━━━━━━━━━━━━━━━━━━━━━━━━━━━━━━━━━━━━\u001b[0m \u001b[32m947.9/947.9 kB\u001b[0m \u001b[31m40.6 MB/s\u001b[0m eta \u001b[36m0:00:00\u001b[0m\n",
            "\u001b[?25h\u001b[31mERROR: pip's dependency resolver does not currently take into account all the packages that are installed. This behaviour is the source of the following dependency conflicts.\n",
            "keras-nlp 0.21.1 requires keras-hub==0.21.1, but you have keras-hub 0.22.1 which is incompatible.\u001b[0m\u001b[31m\n",
            "\u001b[0m"
          ]
        }
      ],
      "source": [
        "!pip install keras keras-hub --upgrade -q"
      ]
    },
    {
      "cell_type": "code",
      "execution_count": 2,
      "metadata": {
        "id": "ixzmFzydz7iK"
      },
      "outputs": [],
      "source": [
        "import os\n",
        "os.environ[\"KERAS_BACKEND\"] = \"jax\""
      ]
    },
    {
      "cell_type": "code",
      "execution_count": 3,
      "metadata": {
        "id": "1RbZUe__z7iL"
      },
      "outputs": [],
      "source": [
        "# @title\n",
        "import os\n",
        "from IPython.core.magic import register_cell_magic\n",
        "\n",
        "@register_cell_magic\n",
        "def backend(line, cell):\n",
        "    current, required = os.environ.get(\"KERAS_BACKEND\", \"\"), line.split()[-1]\n",
        "    if current == required:\n",
        "        get_ipython().run_cell(cell)\n",
        "    else:\n",
        "        print(\n",
        "            f\"This cell requires the {required} backend. To run it, change KERAS_BACKEND to \"\n",
        "            f\"\\\"{required}\\\" at the top of the notebook, restart the runtime, and rerun the notebook.\"\n",
        "        )"
      ]
    },
    {
      "cell_type": "markdown",
      "metadata": {
        "id": "tpS2lm-wz7iN"
      },
      "source": [
        "## Introduction to TensorFlow, PyTorch, JAX, and Keras"
      ]
    },
    {
      "cell_type": "markdown",
      "metadata": {
        "id": "81ct2chTz7iN"
      },
      "source": [
        "### A brief history of deep learning frameworks"
      ]
    },
    {
      "cell_type": "markdown",
      "metadata": {
        "id": "cQZI08lbz7iO"
      },
      "source": [
        "### How these frameworks relate to each other"
      ]
    },
    {
      "cell_type": "markdown",
      "metadata": {
        "id": "PduAWvtQz7iP"
      },
      "source": [
        "### Introduction to TensorFlow"
      ]
    },
    {
      "cell_type": "markdown",
      "metadata": {
        "id": "FdDlL9pQz7iQ"
      },
      "source": [
        "#### First steps with TensorFlow"
      ]
    },
    {
      "cell_type": "markdown",
      "metadata": {
        "id": "qb1I3mAYz7iQ"
      },
      "source": [
        "##### Tensors and variables in TensorFlow"
      ]
    },
    {
      "cell_type": "markdown",
      "metadata": {
        "id": "pxdPvCQFz7iR"
      },
      "source": [
        "###### Constant tensors"
      ]
    },
    {
      "cell_type": "code",
      "execution_count": 4,
      "metadata": {
        "colab": {
          "base_uri": "https://localhost:8080/"
        },
        "id": "nCYPH5__z7iR",
        "outputId": "d87b25e4-8a8a-40dc-e699-b50c86518cc7"
      },
      "outputs": [
        {
          "output_type": "execute_result",
          "data": {
            "text/plain": [
              "<tf.Tensor: shape=(2, 1), dtype=float32, numpy=\n",
              "array([[1.],\n",
              "       [1.]], dtype=float32)>"
            ]
          },
          "metadata": {},
          "execution_count": 4
        }
      ],
      "source": [
        "import tensorflow as tf\n",
        "tf.ones(shape=(2, 1))"
      ]
    },
    {
      "cell_type": "code",
      "execution_count": null,
      "metadata": {
        "colab": {
          "base_uri": "https://localhost:8080/"
        },
        "id": "Ni-gwVs4z7iS",
        "outputId": "04c10774-b68e-42ed-d8a3-f290db1c340a"
      },
      "outputs": [
        {
          "output_type": "execute_result",
          "data": {
            "text/plain": [
              "<tf.Tensor: shape=(2, 1), dtype=float32, numpy=\n",
              "array([[0.],\n",
              "       [0.]], dtype=float32)>"
            ]
          },
          "metadata": {},
          "execution_count": 2
        }
      ],
      "source": [
        "tf.zeros(shape=(2, 1))"
      ]
    },
    {
      "cell_type": "code",
      "execution_count": 5,
      "metadata": {
        "colab": {
          "base_uri": "https://localhost:8080/"
        },
        "id": "PnQfytq_z7iS",
        "outputId": "13028885-60cf-47c8-bf08-94bfc3fd679d"
      },
      "outputs": [
        {
          "output_type": "execute_result",
          "data": {
            "text/plain": [
              "<tf.Tensor: shape=(3,), dtype=float32, numpy=array([1., 2., 3.], dtype=float32)>"
            ]
          },
          "metadata": {},
          "execution_count": 5
        }
      ],
      "source": [
        "tf.constant([1, 2, 3], dtype=\"float32\")"
      ]
    },
    {
      "cell_type": "markdown",
      "metadata": {
        "id": "lMXv25-Gz7iT"
      },
      "source": [
        "###### Random tensors"
      ]
    },
    {
      "cell_type": "code",
      "execution_count": 6,
      "metadata": {
        "colab": {
          "base_uri": "https://localhost:8080/"
        },
        "id": "rB1eegsRz7iT",
        "outputId": "7caabbf4-8263-4499-a5c0-90898e9749b2"
      },
      "outputs": [
        {
          "output_type": "stream",
          "name": "stdout",
          "text": [
            "tf.Tensor(\n",
            "[[-0.00882495]\n",
            " [ 0.14293878]\n",
            " [-0.98156315]], shape=(3, 1), dtype=float32)\n"
          ]
        }
      ],
      "source": [
        "x = tf.random.normal(shape=(3, 1), mean=0., stddev=1.)\n",
        "print(x)"
      ]
    },
    {
      "cell_type": "code",
      "execution_count": 10,
      "metadata": {
        "colab": {
          "base_uri": "https://localhost:8080/"
        },
        "id": "lrYGQMNlz7iU",
        "outputId": "fb71d712-dda4-4955-d9f8-8491bf8e27e6"
      },
      "outputs": [
        {
          "output_type": "stream",
          "name": "stdout",
          "text": [
            "tf.Tensor(\n",
            "[[0.47996926]\n",
            " [0.8973174 ]\n",
            " [0.52388155]], shape=(3, 1), dtype=float32)\n"
          ]
        }
      ],
      "source": [
        "x = tf.random.uniform(shape=(3, 1), minval=0., maxval=1.)\n",
        "print(x)"
      ]
    },
    {
      "cell_type": "markdown",
      "metadata": {
        "id": "RtMZc7sYz7iU"
      },
      "source": [
        "###### Tensor assignment and the Variable class"
      ]
    },
    {
      "cell_type": "code",
      "execution_count": 11,
      "metadata": {
        "id": "iONJwQCtz7iV"
      },
      "outputs": [],
      "source": [
        "import numpy as np\n",
        "\n",
        "x = np.ones(shape=(2, 2))\n",
        "x[0, 0] = 0.0"
      ]
    },
    {
      "cell_type": "code",
      "source": [
        "x"
      ],
      "metadata": {
        "colab": {
          "base_uri": "https://localhost:8080/"
        },
        "id": "KCsHlRDdy5DS",
        "outputId": "2268963b-0b6f-4f44-ae07-3c629fc8212b"
      },
      "execution_count": 12,
      "outputs": [
        {
          "output_type": "execute_result",
          "data": {
            "text/plain": [
              "array([[0., 1.],\n",
              "       [1., 1.]])"
            ]
          },
          "metadata": {},
          "execution_count": 12
        }
      ]
    },
    {
      "cell_type": "code",
      "execution_count": 13,
      "metadata": {
        "colab": {
          "base_uri": "https://localhost:8080/"
        },
        "id": "vs8xQFTfz7iV",
        "outputId": "078d1fde-5584-40cd-ca1f-7d677af634e4"
      },
      "outputs": [
        {
          "output_type": "stream",
          "name": "stdout",
          "text": [
            "<tf.Variable 'Variable:0' shape=(3, 1) dtype=float32, numpy=\n",
            "array([[ 0.38256314],\n",
            "       [-0.82822096],\n",
            "       [ 0.43696222]], dtype=float32)>\n"
          ]
        }
      ],
      "source": [
        "v = tf.Variable(initial_value=tf.random.normal(shape=(3, 1)))\n",
        "print(v)"
      ]
    },
    {
      "cell_type": "code",
      "execution_count": 14,
      "metadata": {
        "colab": {
          "base_uri": "https://localhost:8080/"
        },
        "id": "211ANcgiz7iW",
        "outputId": "09f846bd-0012-4d60-d686-a1cda91dadef"
      },
      "outputs": [
        {
          "output_type": "execute_result",
          "data": {
            "text/plain": [
              "<tf.Variable 'UnreadVariable' shape=(3, 1) dtype=float32, numpy=\n",
              "array([[1.],\n",
              "       [1.],\n",
              "       [1.]], dtype=float32)>"
            ]
          },
          "metadata": {},
          "execution_count": 14
        }
      ],
      "source": [
        "v.assign(tf.ones((3, 1)))"
      ]
    },
    {
      "cell_type": "code",
      "execution_count": 15,
      "metadata": {
        "colab": {
          "base_uri": "https://localhost:8080/"
        },
        "id": "_4OuLxcPz7iX",
        "outputId": "d1de485a-8b40-4a94-9157-662294099aa3"
      },
      "outputs": [
        {
          "output_type": "execute_result",
          "data": {
            "text/plain": [
              "<tf.Variable 'UnreadVariable' shape=(3, 1) dtype=float32, numpy=\n",
              "array([[3.],\n",
              "       [1.],\n",
              "       [1.]], dtype=float32)>"
            ]
          },
          "metadata": {},
          "execution_count": 15
        }
      ],
      "source": [
        "v[0, 0].assign(3.)"
      ]
    },
    {
      "cell_type": "code",
      "execution_count": 16,
      "metadata": {
        "colab": {
          "base_uri": "https://localhost:8080/"
        },
        "id": "PVKwVNN5z7iX",
        "outputId": "fe436207-2292-447f-ea0c-e4588e331127"
      },
      "outputs": [
        {
          "output_type": "execute_result",
          "data": {
            "text/plain": [
              "<tf.Variable 'UnreadVariable' shape=(3, 1) dtype=float32, numpy=\n",
              "array([[4.],\n",
              "       [2.],\n",
              "       [2.]], dtype=float32)>"
            ]
          },
          "metadata": {},
          "execution_count": 16
        }
      ],
      "source": [
        "v.assign_add(tf.ones((3, 1)))"
      ]
    },
    {
      "cell_type": "markdown",
      "metadata": {
        "id": "-L7hU_wRz7iY"
      },
      "source": [
        "##### Tensor operations: Doing math in TensorFlow"
      ]
    },
    {
      "cell_type": "code",
      "execution_count": 17,
      "metadata": {
        "id": "R3X67U4bz7iY"
      },
      "outputs": [],
      "source": [
        "a = tf.ones((2, 2))\n",
        "b = tf.square(a)\n",
        "c = tf.sqrt(a)\n",
        "d = b + c\n",
        "e = tf.matmul(a, b)\n",
        "f = tf.concat((a, b), axis=0)"
      ]
    },
    {
      "cell_type": "code",
      "execution_count": 18,
      "metadata": {
        "id": "8xUbusF9z7iY"
      },
      "outputs": [],
      "source": [
        "def dense(inputs, W, b):\n",
        "    return tf.nn.relu(tf.matmul(inputs, W) + b)"
      ]
    },
    {
      "cell_type": "markdown",
      "metadata": {
        "id": "EFBB4djtz7iZ"
      },
      "source": [
        "##### Gradients in TensorFlow: A second look at the GradientTape API\n",
        "\n",
        "**[경사하강 엑셀 예제를 파이썬 구현](https://github.com/ancestor9/2025_Fall_text-image-deep-learning-with-python/blob/main/ML%EC%95%8C%EA%B3%A0%EB%A6%AC%EC%A6%98_%EB%AA%A8%EB%8D%B8%20%EC%84%A0%ED%83%9D%EA%B3%BC%ED%8F%89%EA%B0%80.xlsx)**"
      ]
    },
    {
      "cell_type": "code",
      "source": [
        "import tensorflow as tf\n",
        "import numpy as np\n",
        "import matplotlib.pyplot as plt\n",
        "\n",
        "# 데이터 준비\n",
        "x_data = np.array([1, 2, 4, 3, 5], dtype=np.float32)\n",
        "y_data = np.array([1, 3, 2, 5, 2], dtype=np.float32)\n",
        "\n",
        "# 변수 초기화 (a, b: y = ax + b 모델 파라미터)\n",
        "a = tf.Variable(0.0)\n",
        "b = tf.Variable(0.0)\n",
        "\n",
        "# 학습률과 에포크 설정\n",
        "learning_rate = 0.01\n",
        "epochs = 5\n",
        "\n",
        "# 제곱 오차를 저장할 리스트\n",
        "squared_errors = []\n",
        "\n",
        "# 경사 하강법으로 모델 학습\n",
        "for epoch in range(epochs):\n",
        "    with tf.GradientTape() as tape:\n",
        "        y_pred = a * x_data + b  # 선형 모델: y = ax + b\n",
        "        error = y_pred - y_data  # 오차\n",
        "        squared_error = tf.reduce_mean(tf.square(error))  # 평균 제곱 오차\n",
        "        squared_errors.append(squared_error.numpy())\n",
        "\n",
        "    # 기울기 계산\n",
        "    da, db = tape.gradient(squared_error, [a, b])\n",
        "\n",
        "    # 파라미터 업데이트\n",
        "    a.assign_sub(learning_rate * da)\n",
        "    b.assign_sub(learning_rate * db)\n",
        "\n",
        "# 최종 회귀식 파라미터\n",
        "final_a = a.numpy()\n",
        "final_b = b.numpy()\n",
        "print(f\"Final regression equation: y = {final_a:.4f}x + {final_b:.4f}\")\n",
        "\n",
        "# 시각화 (같은 행에 배치)\n",
        "plt.figure(figsize=(15, 5))\n",
        "\n",
        "# 1. 데이터와 회귀선 시각화\n",
        "plt.subplot(1, 3, 1)\n",
        "plt.scatter(x_data, y_data, color='blue', label='Data points')\n",
        "x_range = np.linspace(min(x_data), max(x_data), 100)\n",
        "y_pred_line = final_a * x_range + final_b\n",
        "plt.plot(x_range, y_pred_line, color='red', label=f'Regression line: y = {final_a:.4f}x + {final_b:.4f}')\n",
        "plt.xlabel('x')\n",
        "plt.ylabel('y')\n",
        "plt.title('Data and Regression Line')\n",
        "plt.legend()\n",
        "plt.grid(True)\n",
        "\n",
        "# 2. 제곱 오차 시각화 (각 데이터 포인트에 대해)\n",
        "plt.subplot(1, 3, 2)\n",
        "y_pred_points = final_a * x_data + final_b\n",
        "for i in range(len(x_data)):\n",
        "    plt.plot([x_data[i], x_data[i]], [y_data[i], y_pred_points[i]], color='green', linestyle='--')\n",
        "    plt.scatter(x_data[i], y_pred_points[i], color='red')\n",
        "plt.scatter(x_data, y_data, color='blue', label='Actual y')\n",
        "plt.xlabel('x')\n",
        "plt.ylabel('y')\n",
        "plt.title('Squared Error Visualization')\n",
        "plt.legend(['Error', 'Predicted y', 'Actual y'])\n",
        "plt.grid(True)\n",
        "\n",
        "# 3. 평균 제곱 오차 시각화 (에포크에 따른 변화)\n",
        "plt.subplot(1, 3, 3)\n",
        "plt.plot(range(1, epochs + 1), squared_errors, color='purple', marker='o', label='Mean Squared Error')\n",
        "plt.xlabel('Epoch')\n",
        "plt.ylabel('Mean Squared Error')\n",
        "plt.title('Mean Squared Error vs. Epoch')\n",
        "plt.legend()\n",
        "plt.grid(True)\n",
        "\n",
        "plt.tight_layout()\n",
        "plt.show()"
      ],
      "metadata": {
        "colab": {
          "base_uri": "https://localhost:8080/",
          "height": 401
        },
        "id": "x7gfY5hb9GjI",
        "outputId": "0b99e0a2-0975-4642-9064-e3a814c4649a"
      },
      "execution_count": 31,
      "outputs": [
        {
          "output_type": "stream",
          "name": "stdout",
          "text": [
            "Final regression equation: y = 0.4973x + 0.1759\n"
          ]
        },
        {
          "output_type": "display_data",
          "data": {
            "text/plain": [
              "<Figure size 1500x500 with 3 Axes>"
            ],
            "image/png": "[encoded data removed]"
          },
          "metadata": {}
        }
      ]
    },
    {
      "cell_type": "code",
      "execution_count": 41,
      "metadata": {
        "id": "0AS5gz93z7iZ",
        "colab": {
          "base_uri": "https://localhost:8080/"
        },
        "outputId": "6e497afe-6c24-43a5-d86b-19180737568c"
      },
      "outputs": [
        {
          "output_type": "stream",
          "name": "stdout",
          "text": [
            "<tf.Variable 'Variable:0' shape=() dtype=float32, numpy=3.0>\n"
          ]
        }
      ],
      "source": [
        "input_var = tf.Variable(initial_value=3.0)\n",
        "print(input_var)\n",
        "with tf.GradientTape() as tape:\n",
        "    result = tf.square(input_var)\n",
        "gradient = tape.gradient(result, input_var)"
      ]
    },
    {
      "cell_type": "code",
      "execution_count": 42,
      "metadata": {
        "id": "0lnnqCHCz7ia"
      },
      "outputs": [],
      "source": [
        "input_const = tf.constant(3.0)\n",
        "with tf.GradientTape() as tape:\n",
        "    tape.watch(input_const)\n",
        "    result = tf.square(input_const)\n",
        "gradient = tape.gradient(result, input_const)"
      ]
    },
    {
      "cell_type": "code",
      "execution_count": 43,
      "metadata": {
        "id": "N0r0iHtBz7ia"
      },
      "outputs": [],
      "source": [
        "time = tf.Variable(0.0)\n",
        "with tf.GradientTape() as outer_tape:\n",
        "    with tf.GradientTape() as inner_tape:\n",
        "        position = 4.9 * time**2\n",
        "    speed = inner_tape.gradient(position, time)\n",
        "acceleration = outer_tape.gradient(speed, time)"
      ]
    },
    {
      "cell_type": "markdown",
      "metadata": {
        "id": "NkJ6PEOTz7ib"
      },
      "source": [
        "##### Making TensorFlow functions fast using compilation"
      ]
    },
    {
      "cell_type": "code",
      "execution_count": 44,
      "metadata": {
        "id": "oNyMYDZEz7ib"
      },
      "outputs": [],
      "source": [
        "@tf.function\n",
        "def dense(inputs, W, b):\n",
        "    return tf.nn.relu(tf.matmul(inputs, W) + b)"
      ]
    },
    {
      "cell_type": "code",
      "execution_count": 45,
      "metadata": {
        "id": "tCjzqtPIz7ib"
      },
      "outputs": [],
      "source": [
        "@tf.function(jit_compile=True)\n",
        "def dense(inputs, W, b):\n",
        "    return tf.nn.relu(tf.matmul(inputs, W) + b)"
      ]
    },
    {
      "cell_type": "markdown",
      "metadata": {
        "id": "F6uRI_m7z7ic"
      },
      "source": [
        "#### An end-to-end example: A linear classifier in pure TensorFlow"
      ]
    },
    {
      "cell_type": "code",
      "execution_count": 46,
      "metadata": {
        "id": "KM5geaewz7ic"
      },
      "outputs": [],
      "source": [
        "import numpy as np\n",
        "\n",
        "num_samples_per_class = 1000\n",
        "negative_samples = np.random.multivariate_normal(\n",
        "    mean=[0, 3], cov=[[1, 0.5], [0.5, 1]], size=num_samples_per_class\n",
        ")\n",
        "positive_samples = np.random.multivariate_normal(\n",
        "    mean=[3, 0], cov=[[1, 0.5], [0.5, 1]], size=num_samples_per_class\n",
        ")"
      ]
    },
    {
      "cell_type": "code",
      "execution_count": 47,
      "metadata": {
        "id": "Uz1w0Q-cz7id"
      },
      "outputs": [],
      "source": [
        "inputs = np.vstack((negative_samples, positive_samples)).astype(np.float32)"
      ]
    },
    {
      "cell_type": "code",
      "execution_count": 48,
      "metadata": {
        "id": "co6le-NJz7id"
      },
      "outputs": [],
      "source": [
        "targets = np.vstack(\n",
        "    (\n",
        "        np.zeros((num_samples_per_class, 1), dtype=\"float32\"),\n",
        "        np.ones((num_samples_per_class, 1), dtype=\"float32\"),\n",
        "    )\n",
        ")"
      ]
    },
    {
      "cell_type": "code",
      "execution_count": 49,
      "metadata": {
        "colab": {
          "base_uri": "https://localhost:8080/",
          "height": 430
        },
        "id": "sSGqtYc7z7ie",
        "outputId": "96d6dcd5-df3f-4853-bae0-6986c08473a6"
      },
      "outputs": [
        {
          "output_type": "display_data",
          "data": {
            "text/plain": [
              "<Figure size 640x480 with 1 Axes>"
            ],
            "image/png": "[encoded data removed]"
          },
          "metadata": {}
        }
      ],
      "source": [
        "import matplotlib.pyplot as plt\n",
        "\n",
        "plt.scatter(inputs[:, 0], inputs[:, 1], c=targets[:, 0])\n",
        "plt.show()"
      ]
    },
    {
      "cell_type": "code",
      "execution_count": 50,
      "metadata": {
        "id": "PwDHVrmrz7ie"
      },
      "outputs": [],
      "source": [
        "input_dim = 2\n",
        "output_dim = 1\n",
        "W = tf.Variable(initial_value=tf.random.uniform(shape=(input_dim, output_dim)))\n",
        "b = tf.Variable(initial_value=tf.zeros(shape=(output_dim,)))"
      ]
    },
    {
      "cell_type": "code",
      "execution_count": 51,
      "metadata": {
        "id": "wFF1CUYBz7jA"
      },
      "outputs": [],
      "source": [
        "def model(inputs, W, b):\n",
        "    return tf.matmul(inputs, W) + b"
      ]
    },
    {
      "cell_type": "code",
      "execution_count": 52,
      "metadata": {
        "id": "0XGcDrFaz7jB"
      },
      "outputs": [],
      "source": [
        "def mean_squared_error(targets, predictions):\n",
        "    per_sample_losses = tf.square(targets - predictions)\n",
        "    return tf.reduce_mean(per_sample_losses)"
      ]
    },
    {
      "cell_type": "code",
      "execution_count": 53,
      "metadata": {
        "id": "Ow66tSbTz7jB"
      },
      "outputs": [],
      "source": [
        "learning_rate = 0.1\n",
        "\n",
        "@tf.function(jit_compile=True)\n",
        "def training_step(inputs, targets, W, b):\n",
        "    with tf.GradientTape() as tape:\n",
        "        predictions = model(inputs, W, b)\n",
        "        loss = mean_squared_error(predictions, targets)\n",
        "    grad_loss_wrt_W, grad_loss_wrt_b = tape.gradient(loss, [W, b])\n",
        "    W.assign_sub(grad_loss_wrt_W * learning_rate)\n",
        "    b.assign_sub(grad_loss_wrt_b * learning_rate)\n",
        "    return loss"
      ]
    },
    {
      "cell_type": "code",
      "execution_count": 54,
      "metadata": {
        "colab": {
          "base_uri": "https://localhost:8080/"
        },
        "id": "Nn0hITjzz7jC",
        "outputId": "9aad45f1-25df-43fc-c9b6-250ca906682e"
      },
      "outputs": [
        {
          "output_type": "stream",
          "name": "stdout",
          "text": [
            "Loss at step 0: 6.2492\n",
            "Loss at step 1: 0.8393\n",
            "Loss at step 2: 0.2518\n",
            "Loss at step 3: 0.1572\n",
            "Loss at step 4: 0.1350\n",
            "Loss at step 5: 0.1241\n",
            "Loss at step 6: 0.1155\n",
            "Loss at step 7: 0.1078\n",
            "Loss at step 8: 0.1008\n",
            "Loss at step 9: 0.0944\n",
            "Loss at step 10: 0.0886\n",
            "Loss at step 11: 0.0833\n",
            "Loss at step 12: 0.0784\n",
            "Loss at step 13: 0.0740\n",
            "Loss at step 14: 0.0699\n",
            "Loss at step 15: 0.0662\n",
            "Loss at step 16: 0.0628\n",
            "Loss at step 17: 0.0597\n",
            "Loss at step 18: 0.0569\n",
            "Loss at step 19: 0.0543\n",
            "Loss at step 20: 0.0519\n",
            "Loss at step 21: 0.0498\n",
            "Loss at step 22: 0.0478\n",
            "Loss at step 23: 0.0460\n",
            "Loss at step 24: 0.0443\n",
            "Loss at step 25: 0.0428\n",
            "Loss at step 26: 0.0414\n",
            "Loss at step 27: 0.0402\n",
            "Loss at step 28: 0.0390\n",
            "Loss at step 29: 0.0380\n",
            "Loss at step 30: 0.0370\n",
            "Loss at step 31: 0.0361\n",
            "Loss at step 32: 0.0353\n",
            "Loss at step 33: 0.0346\n",
            "Loss at step 34: 0.0339\n",
            "Loss at step 35: 0.0333\n",
            "Loss at step 36: 0.0328\n",
            "Loss at step 37: 0.0323\n",
            "Loss at step 38: 0.0318\n",
            "Loss at step 39: 0.0314\n"
          ]
        }
      ],
      "source": [
        "for step in range(40):\n",
        "    loss = training_step(inputs, targets, W, b)\n",
        "    print(f\"Loss at step {step}: {loss:.4f}\")"
      ]
    },
    {
      "cell_type": "code",
      "execution_count": 55,
      "metadata": {
        "colab": {
          "base_uri": "https://localhost:8080/",
          "height": 430
        },
        "id": "TkAHkbJSz7jC",
        "outputId": "a4142bf0-29ca-43ba-ae14-b01249ceca94"
      },
      "outputs": [
        {
          "output_type": "display_data",
          "data": {
            "text/plain": [
              "<Figure size 640x480 with 1 Axes>"
            ],
            "image/png": "[encoded data removed]"
          },
          "metadata": {}
        }
      ],
      "source": [
        "predictions = model(inputs, W, b)\n",
        "plt.scatter(inputs[:, 0], inputs[:, 1], c=predictions[:, 0] > 0.5)\n",
        "plt.show()"
      ]
    },
    {
      "cell_type": "code",
      "execution_count": 56,
      "metadata": {
        "colab": {
          "base_uri": "https://localhost:8080/",
          "height": 448
        },
        "id": "aL8oxvJFz7jD",
        "outputId": "9065c91c-441a-45a4-f954-7047942284de"
      },
      "outputs": [
        {
          "output_type": "execute_result",
          "data": {
            "text/plain": [
              "<matplotlib.collections.PathCollection at 0x7f0bb8992660>"
            ]
          },
          "metadata": {},
          "execution_count": 56
        },
        {
          "output_type": "display_data",
          "data": {
            "text/plain": [
              "<Figure size 640x480 with 1 Axes>"
            ],
            "image/png": "[encoded data removed]"
          },
          "metadata": {}
        }
      ],
      "source": [
        "x = np.linspace(-1, 4, 100)\n",
        "y = -W[0] / W[1] * x + (0.5 - b) / W[1]\n",
        "plt.plot(x, y, \"-r\")\n",
        "plt.scatter(inputs[:, 0], inputs[:, 1], c=predictions[:, 0] > 0.5)"
      ]
    },
    {
      "cell_type": "markdown",
      "metadata": {
        "id": "HE27vQ-4z7jD"
      },
      "source": [
        "#### What makes the TensorFlow approach unique"
      ]
    },
    {
      "cell_type": "markdown",
      "metadata": {
        "id": "Qr8sBtKfz7jE"
      },
      "source": [
        "### Introduction to PyTorch"
      ]
    },
    {
      "cell_type": "markdown",
      "metadata": {
        "id": "DE_KUGWbz7jE"
      },
      "source": [
        "#### First steps with PyTorch"
      ]
    },
    {
      "cell_type": "markdown",
      "metadata": {
        "id": "Cw1Aqdw0z7jF"
      },
      "source": [
        "##### Tensors and parameters in PyTorch"
      ]
    },
    {
      "cell_type": "markdown",
      "metadata": {
        "id": "4gIvhmL0z7jF"
      },
      "source": [
        "###### Constant tensors"
      ]
    },
    {
      "cell_type": "code",
      "execution_count": 57,
      "metadata": {
        "id": "MJLbQvEoz7jG",
        "colab": {
          "base_uri": "https://localhost:8080/"
        },
        "outputId": "22129c0a-486f-4997-c3c6-7aa1ce8c51d3"
      },
      "outputs": [
        {
          "output_type": "execute_result",
          "data": {
            "text/plain": [
              "tensor([[1.],\n",
              "        [1.]])"
            ]
          },
          "metadata": {},
          "execution_count": 57
        }
      ],
      "source": [
        "import torch\n",
        "torch.ones(size=(2, 1))"
      ]
    },
    {
      "cell_type": "code",
      "execution_count": 58,
      "metadata": {
        "id": "GjGg8c2kz7jG",
        "colab": {
          "base_uri": "https://localhost:8080/"
        },
        "outputId": "d396712b-0228-4e85-aa9e-4006e84cdc7d"
      },
      "outputs": [
        {
          "output_type": "execute_result",
          "data": {
            "text/plain": [
              "tensor([[0.],\n",
              "        [0.]])"
            ]
          },
          "metadata": {},
          "execution_count": 58
        }
      ],
      "source": [
        "torch.zeros(size=(2, 1))"
      ]
    },
    {
      "cell_type": "code",
      "execution_count": 59,
      "metadata": {
        "id": "L_TzkHGrz7jH",
        "colab": {
          "base_uri": "https://localhost:8080/"
        },
        "outputId": "d3239b58-449f-4469-bb75-d3b83124a4f2"
      },
      "outputs": [
        {
          "output_type": "execute_result",
          "data": {
            "text/plain": [
              "tensor([1., 2., 3.])"
            ]
          },
          "metadata": {},
          "execution_count": 59
        }
      ],
      "source": [
        "torch.tensor([1, 2, 3], dtype=torch.float32)"
      ]
    },
    {
      "cell_type": "markdown",
      "metadata": {
        "id": "ZkynK-s2z7jH"
      },
      "source": [
        "###### Random tensors"
      ]
    },
    {
      "cell_type": "code",
      "execution_count": 60,
      "metadata": {
        "id": "j2U4ed6Gz7jI",
        "colab": {
          "base_uri": "https://localhost:8080/"
        },
        "outputId": "4e924239-8c69-411f-9751-54b5c2860984"
      },
      "outputs": [
        {
          "output_type": "execute_result",
          "data": {
            "text/plain": [
              "tensor([[-0.6232],\n",
              "        [-0.8264],\n",
              "        [ 0.5652]])"
            ]
          },
          "metadata": {},
          "execution_count": 60
        }
      ],
      "source": [
        "torch.normal(\n",
        "mean=torch.zeros(size=(3, 1)),\n",
        "std=torch.ones(size=(3, 1)))"
      ]
    },
    {
      "cell_type": "code",
      "execution_count": 61,
      "metadata": {
        "id": "Y2XPn_ltz7jI",
        "colab": {
          "base_uri": "https://localhost:8080/"
        },
        "outputId": "263bd658-f732-427f-98c5-78d361c0370f"
      },
      "outputs": [
        {
          "output_type": "execute_result",
          "data": {
            "text/plain": [
              "tensor([[0.2151],\n",
              "        [0.9243],\n",
              "        [0.0147]])"
            ]
          },
          "metadata": {},
          "execution_count": 61
        }
      ],
      "source": [
        "torch.rand(3, 1)"
      ]
    },
    {
      "cell_type": "markdown",
      "metadata": {
        "id": "MChBiFXMz7jI"
      },
      "source": [
        "###### Tensor assignment and the Parameter class"
      ]
    },
    {
      "cell_type": "code",
      "execution_count": 62,
      "metadata": {
        "id": "pypgU5mbz7jJ",
        "colab": {
          "base_uri": "https://localhost:8080/"
        },
        "outputId": "67229cbc-998e-478a-c200-f590bb77af3f"
      },
      "outputs": [
        {
          "output_type": "execute_result",
          "data": {
            "text/plain": [
              "tensor([[1.],\n",
              "        [0.]])"
            ]
          },
          "metadata": {},
          "execution_count": 62
        }
      ],
      "source": [
        "x = torch.zeros(size=(2, 1))\n",
        "x[0, 0] = 1.\n",
        "x"
      ]
    },
    {
      "cell_type": "code",
      "execution_count": 63,
      "metadata": {
        "id": "wq66kJl2z7jJ"
      },
      "outputs": [],
      "source": [
        "x = torch.zeros(size=(2, 1))\n",
        "p = torch.nn.parameter.Parameter(data=x)"
      ]
    },
    {
      "cell_type": "markdown",
      "metadata": {
        "id": "foNQ15dhz7jK"
      },
      "source": [
        "##### Tensor operations: Doing math in PyTorch"
      ]
    },
    {
      "cell_type": "code",
      "execution_count": 64,
      "metadata": {
        "id": "6AXarVUvz7jK"
      },
      "outputs": [],
      "source": [
        "a = torch.ones((2, 2))\n",
        "b = torch.square(a)\n",
        "c = torch.sqrt(a)\n",
        "d = b + c\n",
        "e = torch.matmul(a, b)\n",
        "f = torch.cat((a, b), dim=0)"
      ]
    },
    {
      "cell_type": "code",
      "execution_count": 65,
      "metadata": {
        "id": "tFzDlJ2Tz7jL"
      },
      "outputs": [],
      "source": [
        "def dense(inputs, W, b):\n",
        "    return torch.nn.relu(torch.matmul(inputs, W) + b)"
      ]
    },
    {
      "cell_type": "markdown",
      "metadata": {
        "id": "06HSA6V-z7jL"
      },
      "source": [
        "##### Computing gradients with PyTorch"
      ]
    },
    {
      "cell_type": "code",
      "execution_count": 66,
      "metadata": {
        "id": "cUh4qlYNz7jL",
        "colab": {
          "base_uri": "https://localhost:8080/"
        },
        "outputId": "c9cb3aaf-2769-4f09-e18a-6f81fc93b2fa"
      },
      "outputs": [
        {
          "output_type": "execute_result",
          "data": {
            "text/plain": [
              "tensor(6.)"
            ]
          },
          "metadata": {},
          "execution_count": 66
        }
      ],
      "source": [
        "input_var = torch.tensor(3.0, requires_grad=True)\n",
        "result = torch.square(input_var)\n",
        "result.backward()\n",
        "gradient = input_var.grad\n",
        "gradient"
      ]
    },
    {
      "cell_type": "code",
      "execution_count": 67,
      "metadata": {
        "id": "1kMNkpmuz7jM",
        "colab": {
          "base_uri": "https://localhost:8080/"
        },
        "outputId": "a6eed847-b7dd-4af3-978c-adc1bb545275"
      },
      "outputs": [
        {
          "output_type": "execute_result",
          "data": {
            "text/plain": [
              "tensor(12.)"
            ]
          },
          "metadata": {},
          "execution_count": 67
        }
      ],
      "source": [
        "result = torch.square(input_var)\n",
        "result.backward()\n",
        "input_var.grad"
      ]
    },
    {
      "cell_type": "code",
      "execution_count": 68,
      "metadata": {
        "id": "L74OQW0_z7jN"
      },
      "outputs": [],
      "source": [
        "input_var.grad = None"
      ]
    },
    {
      "cell_type": "markdown",
      "metadata": {
        "id": "IvQ9AxRFz7jN"
      },
      "source": [
        "#### An end-to-end example: A linear classifier in pure PyTorch"
      ]
    },
    {
      "cell_type": "code",
      "execution_count": 69,
      "metadata": {
        "id": "gKhaEeQ9z7jO"
      },
      "outputs": [],
      "source": [
        "input_dim = 2\n",
        "output_dim = 1\n",
        "\n",
        "W = torch.rand(input_dim, output_dim, requires_grad=True)\n",
        "b = torch.zeros(output_dim, requires_grad=True)"
      ]
    },
    {
      "cell_type": "code",
      "execution_count": 70,
      "metadata": {
        "id": "CjHZprijz7jO"
      },
      "outputs": [],
      "source": [
        "def model(inputs, W, b):\n",
        "    return torch.matmul(inputs, W) + b"
      ]
    },
    {
      "cell_type": "code",
      "execution_count": 71,
      "metadata": {
        "id": "WngiSVPRz7jP"
      },
      "outputs": [],
      "source": [
        "def mean_squared_error(targets, predictions):\n",
        "    per_sample_losses = torch.square(targets - predictions)\n",
        "    return torch.mean(per_sample_losses)"
      ]
    },
    {
      "cell_type": "code",
      "execution_count": 72,
      "metadata": {
        "id": "DmfiU7IXz7jP"
      },
      "outputs": [],
      "source": [
        "learning_rate = 0.1\n",
        "\n",
        "def training_step(inputs, targets, W, b):\n",
        "    predictions = model(inputs)\n",
        "    loss = mean_squared_error(targets, predictions)\n",
        "    loss.backward()\n",
        "    grad_loss_wrt_W, grad_loss_wrt_b = W.grad, b.grad\n",
        "    with torch.no_grad():\n",
        "        W -= grad_loss_wrt_W * learning_rate\n",
        "        b -= grad_loss_wrt_b * learning_rate\n",
        "    W.grad = None\n",
        "    b.grad = None\n",
        "    return loss"
      ]
    },
    {
      "cell_type": "markdown",
      "metadata": {
        "id": "uhGKdGhSz7jP"
      },
      "source": [
        "##### Packaging state and computation with the Module class"
      ]
    },
    {
      "cell_type": "code",
      "execution_count": 73,
      "metadata": {
        "id": "fGJnj3hMz7jQ"
      },
      "outputs": [],
      "source": [
        "class LinearModel(torch.nn.Module):\n",
        "    def __init__(self):\n",
        "        super().__init__()\n",
        "        self.W = torch.nn.Parameter(torch.rand(input_dim, output_dim))\n",
        "        self.b = torch.nn.Parameter(torch.zeros(output_dim))\n",
        "\n",
        "    def forward(self, inputs):\n",
        "        return torch.matmul(inputs, self.W) + self.b"
      ]
    },
    {
      "cell_type": "code",
      "execution_count": 74,
      "metadata": {
        "id": "-GdQqkBXz7jQ"
      },
      "outputs": [],
      "source": [
        "model = LinearModel()"
      ]
    },
    {
      "cell_type": "code",
      "execution_count": 75,
      "metadata": {
        "id": "t7Jeccnwz7jR"
      },
      "outputs": [],
      "source": [
        "torch_inputs = torch.tensor(inputs)\n",
        "output = model(torch_inputs)"
      ]
    },
    {
      "cell_type": "code",
      "execution_count": 76,
      "metadata": {
        "id": "UXXtCpApz7jR"
      },
      "outputs": [],
      "source": [
        "optimizer = torch.optim.SGD(model.parameters(), lr=learning_rate)"
      ]
    },
    {
      "cell_type": "code",
      "execution_count": 77,
      "metadata": {
        "id": "6AavSqM8z7jS"
      },
      "outputs": [],
      "source": [
        "def training_step(inputs, targets):\n",
        "    predictions = model(inputs)\n",
        "    loss = mean_squared_error(targets, predictions)\n",
        "    loss.backward()\n",
        "    optimizer.step()\n",
        "    model.zero_grad()\n",
        "    return loss"
      ]
    },
    {
      "cell_type": "markdown",
      "metadata": {
        "id": "eFC8b98Nz7jS"
      },
      "source": [
        "##### Making PyTorch modules fast using compilation"
      ]
    },
    {
      "cell_type": "code",
      "execution_count": 78,
      "metadata": {
        "id": "rILw1MVsz7jS"
      },
      "outputs": [],
      "source": [
        "compiled_model = torch.compile(model)"
      ]
    },
    {
      "cell_type": "code",
      "execution_count": 79,
      "metadata": {
        "id": "jEXRC3iWz7jT"
      },
      "outputs": [],
      "source": [
        "@torch.compile\n",
        "def dense(inputs, W, b):\n",
        "    return torch.nn.relu(torch.matmul(inputs, W) + b)"
      ]
    },
    {
      "cell_type": "markdown",
      "metadata": {
        "id": "lkvSFrj2z7jT"
      },
      "source": [
        "#### What makes the PyTorch approach unique"
      ]
    },
    {
      "cell_type": "markdown",
      "metadata": {
        "id": "pDQ13guSz7jT"
      },
      "source": [
        "### Introduction to JAX"
      ]
    },
    {
      "cell_type": "markdown",
      "metadata": {
        "id": "Qf09UmLnz7jU"
      },
      "source": [
        "#### First steps with JAX"
      ]
    },
    {
      "cell_type": "markdown",
      "metadata": {
        "id": "mP5sclKGz7jU"
      },
      "source": [
        "#### Tensors in JAX"
      ]
    },
    {
      "cell_type": "code",
      "execution_count": 80,
      "metadata": {
        "colab": {
          "base_uri": "https://localhost:8080/"
        },
        "id": "7_2-kz_pz7jU",
        "outputId": "6101354c-904d-45b5-c5d6-f20eb91eb5ae"
      },
      "outputs": [
        {
          "output_type": "execute_result",
          "data": {
            "text/plain": [
              "Array([[1.],\n",
              "       [1.]], dtype=float32)"
            ]
          },
          "metadata": {},
          "execution_count": 80
        }
      ],
      "source": [
        "from jax import numpy as jnp\n",
        "jnp.ones(shape=(2, 1))"
      ]
    },
    {
      "cell_type": "code",
      "execution_count": 81,
      "metadata": {
        "colab": {
          "base_uri": "https://localhost:8080/"
        },
        "id": "H7R2s47Uz7jV",
        "outputId": "d4410c22-8121-4738-f531-5e183e8f67dd"
      },
      "outputs": [
        {
          "output_type": "execute_result",
          "data": {
            "text/plain": [
              "Array([[0.],\n",
              "       [0.]], dtype=float32)"
            ]
          },
          "metadata": {},
          "execution_count": 81
        }
      ],
      "source": [
        "jnp.zeros(shape=(2, 1))"
      ]
    },
    {
      "cell_type": "code",
      "execution_count": 82,
      "metadata": {
        "colab": {
          "base_uri": "https://localhost:8080/"
        },
        "id": "ghGWfS_Jz7jV",
        "outputId": "3fc71e8d-e955-4b89-894d-08bab7a032d4"
      },
      "outputs": [
        {
          "output_type": "execute_result",
          "data": {
            "text/plain": [
              "Array([1., 2., 3.], dtype=float32)"
            ]
          },
          "metadata": {},
          "execution_count": 82
        }
      ],
      "source": [
        "jnp.array([1, 2, 3], dtype=\"float32\")"
      ]
    },
    {
      "cell_type": "markdown",
      "metadata": {
        "id": "Udn0BuF9z7jV"
      },
      "source": [
        "#### Random number generation in JAX"
      ]
    },
    {
      "cell_type": "code",
      "execution_count": 83,
      "metadata": {
        "colab": {
          "base_uri": "https://localhost:8080/"
        },
        "id": "pbJ1y7tjz7jV",
        "outputId": "fbfd90c9-199e-4659-a0ae-506913aa5dda"
      },
      "outputs": [
        {
          "output_type": "execute_result",
          "data": {
            "text/plain": [
              "array([ 0.06625156, -0.70757899,  0.05683176])"
            ]
          },
          "metadata": {},
          "execution_count": 83
        }
      ],
      "source": [
        "np.random.normal(size=(3,))"
      ]
    },
    {
      "cell_type": "code",
      "execution_count": 84,
      "metadata": {
        "colab": {
          "base_uri": "https://localhost:8080/"
        },
        "id": "UZ5TolcIz7jW",
        "outputId": "20edc452-c388-4c86-bcb5-e238c7900de0"
      },
      "outputs": [
        {
          "output_type": "execute_result",
          "data": {
            "text/plain": [
              "array([ 1.35436794, -0.93721422, -0.25316612])"
            ]
          },
          "metadata": {},
          "execution_count": 84
        }
      ],
      "source": [
        "np.random.normal(size=(3,))"
      ]
    },
    {
      "cell_type": "code",
      "execution_count": 85,
      "metadata": {
        "id": "fvZxXuvZz7jW",
        "colab": {
          "base_uri": "https://localhost:8080/"
        },
        "outputId": "cfb8cc3f-db04-457b-85bf-0cb6a0ed4ff2"
      },
      "outputs": [
        {
          "output_type": "stream",
          "name": "stderr",
          "text": [
            "/tmp/ipython-input-2654806653.py:3: DeprecationWarning: __array_wrap__ must accept context and return_scalar arguments (positionally) in the future. (Deprecated NumPy 2.0)\n",
            "  x = x * np.random.normal((3,))\n"
          ]
        }
      ],
      "source": [
        "def apply_noise(x, seed):\n",
        "    np.random.seed(seed)\n",
        "    x = x * np.random.normal((3,))\n",
        "    return x\n",
        "\n",
        "seed = 1337\n",
        "y = apply_noise(x, seed)\n",
        "seed += 1\n",
        "z = apply_noise(x, seed)"
      ]
    },
    {
      "cell_type": "code",
      "execution_count": 86,
      "metadata": {
        "id": "cwf3zcZ3z7jW"
      },
      "outputs": [],
      "source": [
        "import jax\n",
        "\n",
        "seed_key = jax.random.key(1337)"
      ]
    },
    {
      "cell_type": "code",
      "execution_count": 87,
      "metadata": {
        "colab": {
          "base_uri": "https://localhost:8080/"
        },
        "id": "COVgILZMz7jX",
        "outputId": "c01ec378-590e-4404-eeba-42b9dbc0884b"
      },
      "outputs": [
        {
          "output_type": "execute_result",
          "data": {
            "text/plain": [
              "Array([ 1.6226422 ,  2.0252647 , -0.43359444], dtype=float32)"
            ]
          },
          "metadata": {},
          "execution_count": 87
        }
      ],
      "source": [
        "seed_key = jax.random.key(0)\n",
        "jax.random.normal(seed_key, shape=(3,))"
      ]
    },
    {
      "cell_type": "code",
      "execution_count": 88,
      "metadata": {
        "colab": {
          "base_uri": "https://localhost:8080/"
        },
        "id": "ZEJrzONnz7jX",
        "outputId": "01df4767-5d34-444e-a994-c3aeaee53bdd"
      },
      "outputs": [
        {
          "output_type": "execute_result",
          "data": {
            "text/plain": [
              "Array([1.6359469 , 0.8408094 , 0.02212393], dtype=float32)"
            ]
          },
          "metadata": {},
          "execution_count": 88
        }
      ],
      "source": [
        "seed_key = jax.random.key(123)\n",
        "jax.random.normal(seed_key, shape=(3,))"
      ]
    },
    {
      "cell_type": "code",
      "execution_count": 89,
      "metadata": {
        "colab": {
          "base_uri": "https://localhost:8080/"
        },
        "id": "VzK_kekxz7jX",
        "outputId": "4023eefa-3748-457b-8f56-348b699365f1"
      },
      "outputs": [
        {
          "output_type": "execute_result",
          "data": {
            "text/plain": [
              "Array([1.6359469 , 0.8408094 , 0.02212393], dtype=float32)"
            ]
          },
          "metadata": {},
          "execution_count": 89
        }
      ],
      "source": [
        "jax.random.normal(seed_key, shape=(3,))"
      ]
    },
    {
      "cell_type": "code",
      "execution_count": 90,
      "metadata": {
        "colab": {
          "base_uri": "https://localhost:8080/"
        },
        "id": "QZ8LpRjBz7jX",
        "outputId": "32ce8a25-7427-48bd-b1d9-83735ab49851"
      },
      "outputs": [
        {
          "output_type": "execute_result",
          "data": {
            "text/plain": [
              "Array([1.6359469 , 0.8408094 , 0.02212393], dtype=float32)"
            ]
          },
          "metadata": {},
          "execution_count": 90
        }
      ],
      "source": [
        "seed_key = jax.random.key(123)\n",
        "jax.random.normal(seed_key, shape=(3,))"
      ]
    },
    {
      "cell_type": "code",
      "execution_count": 91,
      "metadata": {
        "colab": {
          "base_uri": "https://localhost:8080/"
        },
        "id": "DaoxgKIFz7jY",
        "outputId": "61999511-d2e8-464b-b835-b4ac4fb309da"
      },
      "outputs": [
        {
          "output_type": "execute_result",
          "data": {
            "text/plain": [
              "Array([-0.49093357, -0.9478693 , -1.775197  ], dtype=float32)"
            ]
          },
          "metadata": {},
          "execution_count": 91
        }
      ],
      "source": [
        "new_seed_key = jax.random.split(seed_key, num=1)[0]\n",
        "jax.random.normal(new_seed_key, shape=(3,))"
      ]
    },
    {
      "cell_type": "markdown",
      "metadata": {
        "id": "KC4gE_Lez7jY"
      },
      "source": [
        "##### Tensor assignment"
      ]
    },
    {
      "cell_type": "code",
      "execution_count": 92,
      "metadata": {
        "id": "hKzOTPjdz7jZ"
      },
      "outputs": [],
      "source": [
        "x = jnp.array([1, 2, 3], dtype=\"float32\")\n",
        "new_x = x.at[0].set(10)"
      ]
    },
    {
      "cell_type": "markdown",
      "metadata": {
        "id": "ATmmWF5rz7jZ"
      },
      "source": [
        "##### Tensor operations: Doing math in JAX"
      ]
    },
    {
      "cell_type": "code",
      "execution_count": 93,
      "metadata": {
        "id": "YRLqgZccz7ja"
      },
      "outputs": [],
      "source": [
        "a = jnp.ones((2, 2))\n",
        "b = jnp.square(a)\n",
        "c = jnp.sqrt(a)\n",
        "d = b + c\n",
        "e = jnp.matmul(a, b)\n",
        "e *= d"
      ]
    },
    {
      "cell_type": "code",
      "execution_count": 94,
      "metadata": {
        "id": "D51qV3Wbz7ja"
      },
      "outputs": [],
      "source": [
        "def dense(inputs, W, b):\n",
        "    return jax.nn.relu(jnp.matmul(inputs, W) + b)"
      ]
    },
    {
      "cell_type": "markdown",
      "metadata": {
        "id": "XZ_i4JCez7ja"
      },
      "source": [
        "##### Computing gradients with JAX"
      ]
    },
    {
      "cell_type": "code",
      "execution_count": 95,
      "metadata": {
        "id": "4j2Ne1M5z7jb"
      },
      "outputs": [],
      "source": [
        "def compute_loss(input_var):\n",
        "    return jnp.square(input_var)"
      ]
    },
    {
      "cell_type": "code",
      "execution_count": 96,
      "metadata": {
        "id": "yU_LMSiYz7jb"
      },
      "outputs": [],
      "source": [
        "grad_fn = jax.grad(compute_loss)"
      ]
    },
    {
      "cell_type": "code",
      "execution_count": 97,
      "metadata": {
        "id": "FEwbjm_az7jc"
      },
      "outputs": [],
      "source": [
        "input_var = jnp.array(3.0)\n",
        "grad_of_loss_wrt_input_var = grad_fn(input_var)"
      ]
    },
    {
      "cell_type": "markdown",
      "metadata": {
        "id": "jKWcK6BXz7jc"
      },
      "source": [
        "##### JAX gradient-computation best practices"
      ]
    },
    {
      "cell_type": "markdown",
      "metadata": {
        "id": "ntDWFPx9z7jc"
      },
      "source": [
        "###### Returning the loss value"
      ]
    },
    {
      "cell_type": "code",
      "execution_count": 98,
      "metadata": {
        "id": "FLryzpuCz7jd"
      },
      "outputs": [],
      "source": [
        "grad_fn = jax.value_and_grad(compute_loss)\n",
        "output, grad_of_loss_wrt_input_var = grad_fn(input_var)"
      ]
    },
    {
      "cell_type": "markdown",
      "metadata": {
        "id": "9uhQD5IPz7jd"
      },
      "source": [
        "###### Getting gradients for a complex function"
      ]
    },
    {
      "cell_type": "markdown",
      "metadata": {
        "id": "XMu5vGIhz7je"
      },
      "source": [
        "###### Returning auxiliary outputs"
      ]
    },
    {
      "cell_type": "markdown",
      "metadata": {
        "id": "x09OrGOAz7je"
      },
      "source": [
        "##### Making JAX functions fast with @jax.jit"
      ]
    },
    {
      "cell_type": "code",
      "execution_count": 99,
      "metadata": {
        "id": "xc_lmo-pz7je"
      },
      "outputs": [],
      "source": [
        "@jax.jit\n",
        "def dense(inputs, W, b):\n",
        "    return jax.nn.relu(jnp.matmul(inputs, W) + b)"
      ]
    },
    {
      "cell_type": "markdown",
      "metadata": {
        "id": "1PjTOt0Cz7je"
      },
      "source": [
        "#### An end-to-end example: A linear classifier in pure JAX"
      ]
    },
    {
      "cell_type": "code",
      "execution_count": 100,
      "metadata": {
        "id": "eGsQcZynz7jf"
      },
      "outputs": [],
      "source": [
        "def model(inputs, W, b):\n",
        "    return jnp.matmul(inputs, W) + b\n",
        "\n",
        "def mean_squared_error(targets, predictions):\n",
        "    per_sample_losses = jnp.square(targets - predictions)\n",
        "    return jnp.mean(per_sample_losses)"
      ]
    },
    {
      "cell_type": "code",
      "execution_count": 101,
      "metadata": {
        "id": "eiRdXFPEz7jf"
      },
      "outputs": [],
      "source": [
        "def compute_loss(state, inputs, targets):\n",
        "    W, b = state\n",
        "    predictions = model(inputs, W, b)\n",
        "    loss = mean_squared_error(targets, predictions)\n",
        "    return loss"
      ]
    },
    {
      "cell_type": "code",
      "execution_count": 102,
      "metadata": {
        "id": "Z9PuScnvz7jf"
      },
      "outputs": [],
      "source": [
        "grad_fn = jax.value_and_grad(compute_loss)"
      ]
    },
    {
      "cell_type": "code",
      "execution_count": 103,
      "metadata": {
        "id": "3n8OJK1-z7jf"
      },
      "outputs": [],
      "source": [
        "learning_rate = 0.1\n",
        "\n",
        "@jax.jit\n",
        "def training_step(inputs, targets, W, b):\n",
        "    loss, grads = grad_fn((W, b), inputs, targets)\n",
        "    grad_wrt_W, grad_wrt_b = grads\n",
        "    W = W - grad_wrt_W * learning_rate\n",
        "    b = b - grad_wrt_b * learning_rate\n",
        "    return loss, W, b"
      ]
    },
    {
      "cell_type": "code",
      "execution_count": 104,
      "metadata": {
        "colab": {
          "base_uri": "https://localhost:8080/"
        },
        "id": "D-Rd297Hz7jg",
        "outputId": "b8b5f856-2173-4b43-d736-167669e1fa68"
      },
      "outputs": [
        {
          "output_type": "stream",
          "name": "stdout",
          "text": [
            "W, b at step 0: 0.2117, -0.1398\n",
            "Loss at step 0: 3.4696\n",
            "W, b at step 1: 0.3286, -0.0523\n",
            "Loss at step 1: 0.2317\n",
            "W, b at step 2: 0.2760, -0.0508\n",
            "Loss at step 2: 0.1239\n",
            "W, b at step 3: 0.2875, -0.0180\n",
            "Loss at step 3: 0.1024\n",
            "W, b at step 4: 0.2750, 0.0014\n",
            "Loss at step 4: 0.0940\n",
            "W, b at step 5: 0.2721, 0.0245\n",
            "Loss at step 5: 0.0879\n",
            "W, b at step 6: 0.2658, 0.0449\n",
            "Loss at step 6: 0.0826\n",
            "W, b at step 7: 0.2611, 0.0650\n",
            "Loss at step 7: 0.0778\n",
            "W, b at step 8: 0.2561, 0.0840\n",
            "Loss at step 8: 0.0734\n",
            "W, b at step 9: 0.2516, 0.1022\n",
            "Loss at step 9: 0.0694\n",
            "W, b at step 10: 0.2471, 0.1196\n",
            "Loss at step 10: 0.0657\n",
            "W, b at step 11: 0.2429, 0.1362\n",
            "Loss at step 11: 0.0624\n",
            "W, b at step 12: 0.2389, 0.1521\n",
            "Loss at step 12: 0.0593\n",
            "W, b at step 13: 0.2350, 0.1673\n",
            "Loss at step 13: 0.0565\n",
            "W, b at step 14: 0.2313, 0.1819\n",
            "Loss at step 14: 0.0540\n",
            "W, b at step 15: 0.2278, 0.1957\n",
            "Loss at step 15: 0.0516\n",
            "W, b at step 16: 0.2244, 0.2090\n",
            "Loss at step 16: 0.0495\n",
            "W, b at step 17: 0.2212, 0.2217\n",
            "Loss at step 17: 0.0475\n",
            "W, b at step 18: 0.2181, 0.2338\n",
            "Loss at step 18: 0.0457\n",
            "W, b at step 19: 0.2152, 0.2454\n",
            "Loss at step 19: 0.0441\n",
            "W, b at step 20: 0.2124, 0.2565\n",
            "Loss at step 20: 0.0426\n",
            "W, b at step 21: 0.2097, 0.2671\n",
            "Loss at step 21: 0.0413\n",
            "W, b at step 22: 0.2071, 0.2773\n",
            "Loss at step 22: 0.0400\n",
            "W, b at step 23: 0.2046, 0.2869\n",
            "Loss at step 23: 0.0389\n",
            "W, b at step 24: 0.2023, 0.2962\n",
            "Loss at step 24: 0.0378\n",
            "W, b at step 25: 0.2000, 0.3050\n",
            "Loss at step 25: 0.0369\n",
            "W, b at step 26: 0.1979, 0.3135\n",
            "Loss at step 26: 0.0360\n",
            "W, b at step 27: 0.1958, 0.3216\n",
            "Loss at step 27: 0.0352\n",
            "W, b at step 28: 0.1939, 0.3293\n",
            "Loss at step 28: 0.0345\n",
            "W, b at step 29: 0.1920, 0.3367\n",
            "Loss at step 29: 0.0339\n",
            "W, b at step 30: 0.1902, 0.3438\n",
            "Loss at step 30: 0.0333\n",
            "W, b at step 31: 0.1885, 0.3505\n",
            "Loss at step 31: 0.0327\n",
            "W, b at step 32: 0.1869, 0.3570\n",
            "Loss at step 32: 0.0322\n",
            "W, b at step 33: 0.1853, 0.3631\n",
            "Loss at step 33: 0.0317\n",
            "W, b at step 34: 0.1838, 0.3690\n",
            "Loss at step 34: 0.0313\n",
            "W, b at step 35: 0.1824, 0.3747\n",
            "Loss at step 35: 0.0309\n",
            "W, b at step 36: 0.1810, 0.3801\n",
            "Loss at step 36: 0.0306\n",
            "W, b at step 37: 0.1797, 0.3852\n",
            "Loss at step 37: 0.0303\n",
            "W, b at step 38: 0.1784, 0.3901\n",
            "Loss at step 38: 0.0300\n",
            "W, b at step 39: 0.1773, 0.3948\n",
            "Loss at step 39: 0.0297\n"
          ]
        }
      ],
      "source": [
        "input_dim = 2\n",
        "output_dim = 1\n",
        "\n",
        "W = jax.numpy.array(np.random.uniform(size=(input_dim, output_dim)))\n",
        "b = jax.numpy.array(np.zeros(shape=(output_dim,)))\n",
        "state = (W, b)\n",
        "for step in range(40):\n",
        "    loss, W, b = training_step(inputs, targets, W, b)\n",
        "    print(f\"W, b at step {step}: {W.flatten()[0]:.4f}, {b.flatten()[0]:.4f}\")\n",
        "    print(f\"Loss at step {step}: {loss:.4f}\")"
      ]
    },
    {
      "cell_type": "markdown",
      "metadata": {
        "id": "JggGWwG1z7jg"
      },
      "source": [
        "#### What makes the JAX approach unique"
      ]
    },
    {
      "cell_type": "markdown",
      "metadata": {
        "id": "8H5xXEkBz7jg"
      },
      "source": [
        "### Introduction to Keras"
      ]
    },
    {
      "cell_type": "markdown",
      "metadata": {
        "id": "rxUSP0mBz7jg"
      },
      "source": [
        "#### First steps with Keras"
      ]
    },
    {
      "cell_type": "markdown",
      "metadata": {
        "id": "jwtqOYsmz7jh"
      },
      "source": [
        "##### Picking a backend framework"
      ]
    },
    {
      "cell_type": "code",
      "execution_count": 105,
      "metadata": {
        "id": "rvj3dcQqz7jh"
      },
      "outputs": [],
      "source": [
        "import os\n",
        "\n",
        "os.environ[\"KERAS_BACKEND\"] = \"jax\"\n",
        "\n",
        "import keras"
      ]
    },
    {
      "cell_type": "markdown",
      "metadata": {
        "id": "z0QI2T4wz7jh"
      },
      "source": [
        "#### Layers: The building blocks of deep learning"
      ]
    },
    {
      "cell_type": "markdown",
      "metadata": {
        "id": "MIS-O_2Dz7jh"
      },
      "source": [
        "##### The base `Layer` class in Keras"
      ]
    },
    {
      "cell_type": "code",
      "execution_count": 106,
      "metadata": {
        "id": "4jcXiGttz7ji"
      },
      "outputs": [],
      "source": [
        "import keras\n",
        "\n",
        "class SimpleDense(keras.Layer):\n",
        "    def __init__(self, units, activation=None):\n",
        "        super().__init__()\n",
        "        self.units = units\n",
        "        self.activation = activation\n",
        "\n",
        "    def build(self, input_shape):\n",
        "        batch_dim, input_dim = input_shape\n",
        "        self.W = self.add_weight(\n",
        "            shape=(input_dim, self.units), initializer=\"random_normal\"\n",
        "        )\n",
        "        self.b = self.add_weight(shape=(self.units,), initializer=\"zeros\")\n",
        "\n",
        "    def call(self, inputs):\n",
        "        y = keras.ops.matmul(inputs, self.W) + self.b\n",
        "        if self.activation is not None:\n",
        "            y = self.activation(y)\n",
        "        return y"
      ]
    },
    {
      "cell_type": "code",
      "execution_count": 107,
      "metadata": {
        "id": "1HG5_HLiz7jj",
        "colab": {
          "base_uri": "https://localhost:8080/"
        },
        "outputId": "12f44397-e0ab-40e3-d5c4-0f2e3c27e21f"
      },
      "outputs": [
        {
          "output_type": "stream",
          "name": "stdout",
          "text": [
            "(2, 32)\n"
          ]
        }
      ],
      "source": [
        "my_dense = SimpleDense(units=32, activation=keras.ops.relu)\n",
        "input_tensor = keras.ops.ones(shape=(2, 784))\n",
        "output_tensor = my_dense(input_tensor)\n",
        "print(output_tensor.shape)"
      ]
    },
    {
      "cell_type": "markdown",
      "metadata": {
        "id": "6aWuyC0dz7jj"
      },
      "source": [
        "##### Automatic shape inference: Building layers on the fly"
      ]
    },
    {
      "cell_type": "code",
      "execution_count": 108,
      "metadata": {
        "id": "X_IqGw2Pz7jk"
      },
      "outputs": [],
      "source": [
        "from keras import layers\n",
        "\n",
        "layer = layers.Dense(32, activation=\"relu\")"
      ]
    },
    {
      "cell_type": "code",
      "execution_count": 109,
      "metadata": {
        "id": "X9q0GxGKz7jk"
      },
      "outputs": [],
      "source": [
        "from keras import models\n",
        "from keras import layers\n",
        "\n",
        "model = models.Sequential(\n",
        "    [\n",
        "        layers.Dense(32, activation=\"relu\"),\n",
        "        layers.Dense(32),\n",
        "    ]\n",
        ")"
      ]
    },
    {
      "cell_type": "code",
      "execution_count": 110,
      "metadata": {
        "id": "CmaD6lrOz7jl"
      },
      "outputs": [],
      "source": [
        "model = keras.Sequential(\n",
        "    [\n",
        "        SimpleDense(32, activation=\"relu\"),\n",
        "        SimpleDense(64, activation=\"relu\"),\n",
        "        SimpleDense(32, activation=\"relu\"),\n",
        "        SimpleDense(10, activation=\"softmax\"),\n",
        "    ]\n",
        ")"
      ]
    },
    {
      "cell_type": "markdown",
      "metadata": {
        "id": "sYclMYI5z7jl"
      },
      "source": [
        "#### From layers to models"
      ]
    },
    {
      "cell_type": "markdown",
      "metadata": {
        "id": "2Tafn2syz7jl"
      },
      "source": [
        "#### The \"compile\" step: Configuring the learning process"
      ]
    },
    {
      "cell_type": "code",
      "execution_count": 111,
      "metadata": {
        "id": "QKPy2FOJz7jm"
      },
      "outputs": [],
      "source": [
        "model = keras.Sequential([keras.layers.Dense(1)])\n",
        "model.compile(\n",
        "    optimizer=\"rmsprop\",\n",
        "    loss=\"mean_squared_error\",\n",
        "    metrics=[\"accuracy\"],\n",
        ")"
      ]
    },
    {
      "cell_type": "code",
      "execution_count": 112,
      "metadata": {
        "id": "y60TKrSzz7jm"
      },
      "outputs": [],
      "source": [
        "model.compile(\n",
        "    optimizer=keras.optimizers.RMSprop(),\n",
        "    loss=keras.losses.MeanSquaredError(),\n",
        "    metrics=[keras.metrics.BinaryAccuracy()],\n",
        ")"
      ]
    },
    {
      "cell_type": "markdown",
      "metadata": {
        "id": "NQiJy1KKz7jn"
      },
      "source": [
        "#### Picking a loss function"
      ]
    },
    {
      "cell_type": "markdown",
      "metadata": {
        "id": "1ACEQmHMz7jn"
      },
      "source": [
        "#### Understanding the fit method"
      ]
    },
    {
      "cell_type": "code",
      "execution_count": 113,
      "metadata": {
        "id": "wBrrZS-Wz7jn",
        "colab": {
          "base_uri": "https://localhost:8080/"
        },
        "outputId": "a1c2449e-c4c3-438d-ba5b-2cbd4ea9ba13"
      },
      "outputs": [
        {
          "output_type": "stream",
          "name": "stdout",
          "text": [
            "Epoch 1/5\n",
            "\u001b[1m16/16\u001b[0m \u001b[32m━━━━━━━━━━━━━━━━━━━━\u001b[0m\u001b[37m\u001b[0m \u001b[1m1s\u001b[0m 39ms/step - binary_accuracy: 0.6280 - loss: 3.1984\n",
            "Epoch 2/5\n",
            "\u001b[1m16/16\u001b[0m \u001b[32m━━━━━━━━━━━━━━━━━━━━\u001b[0m\u001b[37m\u001b[0m \u001b[1m0s\u001b[0m 2ms/step - binary_accuracy: 0.6435 - loss: 2.9389\n",
            "Epoch 3/5\n",
            "\u001b[1m16/16\u001b[0m \u001b[32m━━━━━━━━━━━━━━━━━━━━\u001b[0m\u001b[37m\u001b[0m \u001b[1m0s\u001b[0m 2ms/step - binary_accuracy: 0.6555 - loss: 2.7255\n",
            "Epoch 4/5\n",
            "\u001b[1m16/16\u001b[0m \u001b[32m━━━━━━━━━━━━━━━━━━━━\u001b[0m\u001b[37m\u001b[0m \u001b[1m0s\u001b[0m 2ms/step - binary_accuracy: 0.6710 - loss: 2.5283\n",
            "Epoch 5/5\n",
            "\u001b[1m16/16\u001b[0m \u001b[32m━━━━━━━━━━━━━━━━━━━━\u001b[0m\u001b[37m\u001b[0m \u001b[1m0s\u001b[0m 2ms/step - binary_accuracy: 0.6875 - loss: 2.3400\n"
          ]
        }
      ],
      "source": [
        "history = model.fit(\n",
        "    inputs,\n",
        "    targets,\n",
        "    epochs=5,\n",
        "    batch_size=128,\n",
        ")"
      ]
    },
    {
      "cell_type": "code",
      "execution_count": 114,
      "metadata": {
        "id": "VunVFCOzz7jo",
        "colab": {
          "base_uri": "https://localhost:8080/"
        },
        "outputId": "8eea3417-ab8f-46b2-b32d-ace575346ed7"
      },
      "outputs": [
        {
          "output_type": "execute_result",
          "data": {
            "text/plain": [
              "{'binary_accuracy': [0.628000020980835,\n",
              "  0.643500030040741,\n",
              "  0.655500054359436,\n",
              "  0.6710000038146973,\n",
              "  0.6875000596046448],\n",
              " 'loss': [3.198387384414673,\n",
              "  2.9388959407806396,\n",
              "  2.7254655361175537,\n",
              "  2.5282983779907227,\n",
              "  2.3400115966796875]}"
            ]
          },
          "metadata": {},
          "execution_count": 114
        }
      ],
      "source": [
        "history.history"
      ]
    },
    {
      "cell_type": "code",
      "source": [
        "import matplotlib.pyplot as plt\n",
        "\n",
        "plt.figure(figsize=(12, 4))\n",
        "\n",
        "# Plot training loss\n",
        "plt.subplot(1, 2, 1)\n",
        "plt.plot(history.history[\"loss\"], label=\"Loss\")\n",
        "plt.title(\"Training Loss\")\n",
        "plt.xlabel(\"Epoch\")\n",
        "plt.ylabel(\"Loss\")\n",
        "plt.legend()\n",
        "plt.grid(True)\n",
        "\n",
        "# Plot training binary accuracy\n",
        "plt.subplot(1, 2, 2)\n",
        "plt.plot(history.history[\"binary_accuracy\"], label=\"Binary Accuracy\")\n",
        "plt.title(\"Training Binary Accuracy\")\n",
        "plt.xlabel(\"Epoch\")\n",
        "plt.ylabel(\"Accuracy\")\n",
        "plt.legend()\n",
        "plt.grid(True)\n",
        "\n",
        "plt.tight_layout()\n",
        "plt.show()"
      ],
      "metadata": {
        "colab": {
          "base_uri": "https://localhost:8080/",
          "height": 382
        },
        "id": "wVwH3m02_wUk",
        "outputId": "621e2bb5-ecf0-4607-899a-58e4182fc738"
      },
      "execution_count": 118,
      "outputs": [
        {
          "output_type": "display_data",
          "data": {
            "text/plain": [
              "<Figure size 1200x400 with 2 Axes>"
            ],
            "image/png": "[encoded data removed]"
          },
          "metadata": {}
        }
      ]
    },
    {
      "cell_type": "markdown",
      "metadata": {
        "id": "uM6ywo2Pz7jo"
      },
      "source": [
        "#### Monitoring loss and metrics on validation data"
      ]
    },
    {
      "cell_type": "code",
      "execution_count": 115,
      "metadata": {
        "id": "0MnKbNL9z7jo",
        "colab": {
          "base_uri": "https://localhost:8080/"
        },
        "outputId": "cdbbddca-38d0-4046-c352-4d363e0e5f4b"
      },
      "outputs": [
        {
          "output_type": "stream",
          "name": "stdout",
          "text": [
            "Epoch 1/5\n",
            "\u001b[1m88/88\u001b[0m \u001b[32m━━━━━━━━━━━━━━━━━━━━\u001b[0m\u001b[37m\u001b[0m \u001b[1m1s\u001b[0m 11ms/step - binary_accuracy: 0.8621 - loss: 0.5469 - val_binary_accuracy: 0.9150 - val_loss: 0.0895\n",
            "Epoch 2/5\n",
            "\u001b[1m88/88\u001b[0m \u001b[32m━━━━━━━━━━━━━━━━━━━━\u001b[0m\u001b[37m\u001b[0m \u001b[1m0s\u001b[0m 2ms/step - binary_accuracy: 0.9564 - loss: 0.0776 - val_binary_accuracy: 0.9317 - val_loss: 0.1172\n",
            "Epoch 3/5\n",
            "\u001b[1m88/88\u001b[0m \u001b[32m━━━━━━━━━━━━━━━━━━━━\u001b[0m\u001b[37m\u001b[0m \u001b[1m0s\u001b[0m 2ms/step - binary_accuracy: 0.9650 - loss: 0.0660 - val_binary_accuracy: 0.9950 - val_loss: 0.0433\n",
            "Epoch 4/5\n",
            "\u001b[1m88/88\u001b[0m \u001b[32m━━━━━━━━━━━━━━━━━━━━\u001b[0m\u001b[37m\u001b[0m \u001b[1m0s\u001b[0m 2ms/step - binary_accuracy: 0.9457 - loss: 0.0773 - val_binary_accuracy: 0.9950 - val_loss: 0.0474\n",
            "Epoch 5/5\n",
            "\u001b[1m88/88\u001b[0m \u001b[32m━━━━━━━━━━━━━━━━━━━━\u001b[0m\u001b[37m\u001b[0m \u001b[1m0s\u001b[0m 2ms/step - binary_accuracy: 0.9657 - loss: 0.0693 - val_binary_accuracy: 0.9100 - val_loss: 0.1333\n"
          ]
        },
        {
          "output_type": "execute_result",
          "data": {
            "text/plain": [
              "<keras.src.callbacks.history.History at 0x7f07f4fe70e0>"
            ]
          },
          "metadata": {},
          "execution_count": 115
        }
      ],
      "source": [
        "model = keras.Sequential([keras.layers.Dense(1)])\n",
        "model.compile(\n",
        "    optimizer=keras.optimizers.RMSprop(learning_rate=0.1),\n",
        "    loss=keras.losses.MeanSquaredError(),\n",
        "    metrics=[keras.metrics.BinaryAccuracy()],\n",
        ")\n",
        "\n",
        "indices_permutation = np.random.permutation(len(inputs))\n",
        "shuffled_inputs = inputs[indices_permutation]\n",
        "shuffled_targets = targets[indices_permutation]\n",
        "\n",
        "num_validation_samples = int(0.3 * len(inputs))\n",
        "val_inputs = shuffled_inputs[:num_validation_samples]\n",
        "val_targets = shuffled_targets[:num_validation_samples]\n",
        "training_inputs = shuffled_inputs[num_validation_samples:]\n",
        "training_targets = shuffled_targets[num_validation_samples:]\n",
        "model.fit(\n",
        "    training_inputs,\n",
        "    training_targets,\n",
        "    epochs=5,\n",
        "    batch_size=16,\n",
        "    validation_data=(val_inputs, val_targets),\n",
        ")"
      ]
    },
    {
      "cell_type": "markdown",
      "metadata": {
        "id": "nbR-2-cYz7jo"
      },
      "source": [
        "#### Inference: Using a model after training"
      ]
    },
    {
      "cell_type": "code",
      "execution_count": 116,
      "metadata": {
        "id": "f_pYFr0Oz7jp",
        "colab": {
          "base_uri": "https://localhost:8080/"
        },
        "outputId": "0e8e36af-b7ab-4ef6-ce80-6c9922375cfd"
      },
      "outputs": [
        {
          "output_type": "stream",
          "name": "stdout",
          "text": [
            "\u001b[1m5/5\u001b[0m \u001b[32m━━━━━━━━━━━━━━━━━━━━\u001b[0m\u001b[37m\u001b[0m \u001b[1m0s\u001b[0m 14ms/step\n",
            "[[1.7427201 ]\n",
            " [0.51769626]\n",
            " [1.6295205 ]\n",
            " [0.18276045]\n",
            " [1.1767473 ]\n",
            " [0.4200292 ]\n",
            " [1.1588047 ]\n",
            " [1.6040698 ]\n",
            " [1.4628251 ]\n",
            " [0.08389956]]\n"
          ]
        }
      ],
      "source": [
        "predictions = model.predict(val_inputs, batch_size=128)\n",
        "print(predictions[:10])"
      ]
    },
    {
      "cell_type": "code",
      "source": [],
      "metadata": {
        "id": "8FACt5zb_muU"
      },
      "execution_count": null,
      "outputs": []
    }
  ],
  "metadata": {
    "accelerator": "GPU",
    "colab": {
      "provenance": [],
      "toc_visible": true,
      "include_colab_link": true
    },
    "kernelspec": {
      "display_name": "Python 3",
      "language": "python",
      "name": "python3"
    },
    "language_info": {
      "codemirror_mode": {
        "name": "ipython",
        "version": 3
      },
      "file_extension": ".py",
      "mimetype": "text/x-python",
      "name": "python",
      "nbconvert_exporter": "python",
      "pygments_lexer": "ipython3",
      "version": "3.10.0"
    }
  },
  "nbformat": 4,
  "nbformat_minor": 0
}