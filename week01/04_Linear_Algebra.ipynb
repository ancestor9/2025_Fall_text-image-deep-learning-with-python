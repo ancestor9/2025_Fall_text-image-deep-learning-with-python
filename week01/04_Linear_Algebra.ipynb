{
  "cells": [
    {
      "cell_type": "markdown",
      "metadata": {
        "id": "view-in-github",
        "colab_type": "text"
      },
      "source": [
        "<a href=\"https://colab.research.google.com/github/ancestor9/2025_Fall_text-image-deep-learning-with-python/blob/main/week01/04_Linear_Algebra.ipynb\" target=\"_parent\"><img src=\"https://colab.research.google.com/assets/colab-badge.svg\" alt=\"Open In Colab\"/></a>"
      ]
    },
    {
      "cell_type": "markdown",
      "source": [
        "## **[Perceptron](https://m.blog.naver.com/PostView.naver?blogId=samsjang&logNo=220955881668&categoryNo=87&proxyReferer=)**"
      ],
      "metadata": {
        "id": "CqpkG0_oQ-i7"
      }
    },
    {
      "cell_type": "markdown",
      "source": [
        "## **1. 퍼셉트론(Perceptron)**"
      ],
      "metadata": {
        "id": "Ze8obLn6ZA2h"
      }
    },
    {
      "cell_type": "markdown",
      "source": [
        "### **2. 단층 퍼셉트론(Single-Layer Perceptron)**\n",
        "- **OR, AND with [Sign Function](https://en.wikipedia.org/wiki/Sign_function)**"
      ],
      "metadata": {
        "id": "e4RJDLGgY7ec"
      }
    },
    {
      "cell_type": "code",
      "source": [
        "import numpy as np\n",
        "import matplotlib.pyplot as plt\n",
        "\n",
        "# Divide the x-axis into 100 values up to [-5, 5].\n",
        "x = np.linspace(-5, 5, 100)\n",
        "\n",
        "# Calculate the sign of each element in the array.\n",
        "y = np.sign(x)\n",
        "\n",
        "# Plot the sign function.\n",
        "plt.plot(x, y)\n",
        "plt.title('Sign Function')\n",
        "plt.xlabel('x'); plt.ylabel('sign(x)')\n",
        "plt.axhline(0, color='black', linewidth=0.5, linestyle='--')\n",
        "plt.show()"
      ],
      "metadata": {
        "colab": {
          "base_uri": "https://localhost:8080/",
          "height": 472
        },
        "id": "i2O0sZQMDYtb",
        "outputId": "d4ecd97b-c2fc-4708-d7ce-c589837baf9d"
      },
      "execution_count": null,
      "outputs": [
        {
          "output_type": "display_data",
          "data": {
            "text/plain": [
              "<Figure size 640x480 with 1 Axes>"
            ],
            "image/png": "[encoded data removed]"
          },
          "metadata": {}
        }
      ]
    },
    {
      "cell_type": "code",
      "source": [
        "import numpy as np\n",
        "\n",
        "X = np.array([[0,0], [1,0], [0,1], [1,1]])\n",
        "Y = np.array([-1,1,1,1])   # OR\n",
        "#Y = np.array([-1,-1,-1,1])   # AND\n",
        "\n",
        "import matplotlib.pyplot as plt\n",
        "\n",
        "plt.scatter(X[0][0], X[0][1], c='red')\n",
        "plt.scatter(X[1][0], X[1][1], c='blue')\n",
        "plt.scatter(X[2][0], X[2][1], c='blue')\n",
        "plt.scatter(X[3][0], X[3][1], c='blue')\n",
        "plt.show()"
      ],
      "metadata": {
        "colab": {
          "base_uri": "https://localhost:8080/",
          "height": 430
        },
        "id": "zk-8ha9iRZBX",
        "outputId": "d097cdb5-f292-46b5-8cb6-ff1fc06998bb"
      },
      "execution_count": null,
      "outputs": [
        {
          "output_type": "display_data",
          "data": {
            "text/plain": [
              "<Figure size 640x480 with 1 Axes>"
            ],
            "image/png": "[encoded data removed]"
          },
          "metadata": {}
        }
      ]
    },
    {
      "cell_type": "code",
      "source": [
        "w= np.array([1. , 1. , 1.])  # [bias, w1, w2]\n",
        "w"
      ],
      "metadata": {
        "colab": {
          "base_uri": "https://localhost:8080/"
        },
        "id": "Qr6Z2LvPUM95",
        "outputId": "ae28d432-3eae-4a13-ef18-67b040f44dc9"
      },
      "execution_count": null,
      "outputs": [
        {
          "output_type": "execute_result",
          "data": {
            "text/plain": [
              "array([1., 1., 1.])"
            ]
          },
          "metadata": {},
          "execution_count": 4
        }
      ]
    },
    {
      "cell_type": "code",
      "source": [
        "X"
      ],
      "metadata": {
        "colab": {
          "base_uri": "https://localhost:8080/"
        },
        "id": "dANpyhurUiPk",
        "outputId": "ecd66f7d-671b-4d7b-e5ed-f714a0c50731"
      },
      "execution_count": null,
      "outputs": [
        {
          "output_type": "execute_result",
          "data": {
            "text/plain": [
              "array([[0, 0],\n",
              "       [1, 0],\n",
              "       [0, 1],\n",
              "       [1, 1]])"
            ]
          },
          "metadata": {},
          "execution_count": 5
        }
      ]
    },
    {
      "cell_type": "code",
      "source": [
        "w[1:]"
      ],
      "metadata": {
        "colab": {
          "base_uri": "https://localhost:8080/"
        },
        "id": "Mys3x9mKUxhz",
        "outputId": "046a840d-421c-448d-8134-0cb71450b4e4"
      },
      "execution_count": null,
      "outputs": [
        {
          "output_type": "execute_result",
          "data": {
            "text/plain": [
              "array([1., 1.])"
            ]
          },
          "metadata": {},
          "execution_count": 6
        }
      ]
    },
    {
      "cell_type": "code",
      "source": [
        "w[0]"
      ],
      "metadata": {
        "colab": {
          "base_uri": "https://localhost:8080/"
        },
        "id": "fmCvy-ECU2U-",
        "outputId": "54ba72f6-be47-48b0-8d05-f1278e39a06c"
      },
      "execution_count": null,
      "outputs": [
        {
          "output_type": "execute_result",
          "data": {
            "text/plain": [
              "np.float64(1.0)"
            ]
          },
          "metadata": {},
          "execution_count": 7
        }
      ]
    },
    {
      "cell_type": "code",
      "source": [
        "np.dot(X, w[1:])"
      ],
      "metadata": {
        "colab": {
          "base_uri": "https://localhost:8080/"
        },
        "id": "dxkRxn-LU4qw",
        "outputId": "e74115a2-4152-4712-eb82-9f21d720842f"
      },
      "execution_count": null,
      "outputs": [
        {
          "output_type": "execute_result",
          "data": {
            "text/plain": [
              "array([0., 1., 1., 2.])"
            ]
          },
          "metadata": {},
          "execution_count": 8
        }
      ]
    },
    {
      "cell_type": "code",
      "source": [
        "# 단층 퍼셉트론(Single-Layer Perceptron)\n",
        "f = np.dot(X, w[1:]) + w[0]\n",
        "f"
      ],
      "metadata": {
        "colab": {
          "base_uri": "https://localhost:8080/"
        },
        "id": "72HsSuVoVRsy",
        "outputId": "1afb1aeb-5c56-4166-8502-1702ada56d31"
      },
      "execution_count": null,
      "outputs": [
        {
          "output_type": "execute_result",
          "data": {
            "text/plain": [
              "array([1., 2., 2., 3.])"
            ]
          },
          "metadata": {},
          "execution_count": 9
        }
      ]
    },
    {
      "cell_type": "code",
      "source": [
        "np.where(f > 0, 1, -1)"
      ],
      "metadata": {
        "colab": {
          "base_uri": "https://localhost:8080/"
        },
        "id": "Yogi1IAdVbxN",
        "outputId": "3117c96e-da69-48d7-828c-dbeaa6149d92"
      },
      "execution_count": null,
      "outputs": [
        {
          "output_type": "execute_result",
          "data": {
            "text/plain": [
              "array([1, 1, 1, 1])"
            ]
          },
          "metadata": {},
          "execution_count": 10
        }
      ]
    },
    {
      "cell_type": "code",
      "source": [
        "print(\"predict (before traning)\", w)"
      ],
      "metadata": {
        "colab": {
          "base_uri": "https://localhost:8080/"
        },
        "id": "cX3-fk0wX7rh",
        "outputId": "1f2a8a81-d6a8-4a0b-8af9-9caf9f549c54"
      },
      "execution_count": null,
      "outputs": [
        {
          "output_type": "stream",
          "name": "stdout",
          "text": [
            "predict (before traning) [1. 1. 1.]\n"
          ]
        }
      ]
    },
    {
      "cell_type": "code",
      "source": [
        "def forward(x):\n",
        "  return np.dot(x, w[1:]) + w[0]\n",
        "\n",
        "def predict(X):\n",
        "  return np.where(forward(X) > 0, 1, -1)"
      ],
      "metadata": {
        "id": "-ghWrGTjUNAk"
      },
      "execution_count": null,
      "outputs": []
    },
    {
      "cell_type": "code",
      "source": [
        "predict(X)"
      ],
      "metadata": {
        "colab": {
          "base_uri": "https://localhost:8080/"
        },
        "id": "qpL21BFkWfLS",
        "outputId": "a16ead1c-0ef2-425a-e93c-aa81b43f19b7"
      },
      "execution_count": null,
      "outputs": [
        {
          "output_type": "execute_result",
          "data": {
            "text/plain": [
              "array([1, 1, 1, 1])"
            ]
          },
          "metadata": {},
          "execution_count": 13
        }
      ]
    },
    {
      "cell_type": "code",
      "source": [
        "Y - predict(X)"
      ],
      "metadata": {
        "colab": {
          "base_uri": "https://localhost:8080/"
        },
        "id": "Zl2xs_aLWtEw",
        "outputId": "293ccc02-2f08-43a1-e1c5-609427f4a664"
      },
      "execution_count": null,
      "outputs": [
        {
          "output_type": "execute_result",
          "data": {
            "text/plain": [
              "array([-2,  0,  0,  0])"
            ]
          },
          "metadata": {},
          "execution_count": 14
        }
      ]
    },
    {
      "cell_type": "code",
      "source": [
        "print(\"predict (before traning)\", w)\n",
        "\n",
        "for epoch in range(50):\n",
        "  for x_val, y_val in zip(X, Y):\n",
        "    update = 0.01 * (y_val - predict(x_val))\n",
        "    w[1:] += update * x_val\n",
        "    w[0] += update\n",
        "\n",
        "print(\"predict (after traning)\", w)"
      ],
      "metadata": {
        "colab": {
          "base_uri": "https://localhost:8080/"
        },
        "id": "yd150mkfV__3",
        "outputId": "fb898e57-7bd1-413b-9956-484a7045a33c"
      },
      "execution_count": null,
      "outputs": [
        {
          "output_type": "stream",
          "name": "stdout",
          "text": [
            "predict (before traning) [1. 1. 1.]\n",
            "predict (after traning) [-6.17561557e-16  1.00000000e+00  1.00000000e+00]\n"
          ]
        }
      ]
    },
    {
      "cell_type": "code",
      "source": [
        "np.dot(X, w[1:])"
      ],
      "metadata": {
        "colab": {
          "base_uri": "https://localhost:8080/"
        },
        "id": "xumxhnGieG59",
        "outputId": "d5580be0-538d-4459-e764-0087bf564655"
      },
      "execution_count": null,
      "outputs": [
        {
          "output_type": "execute_result",
          "data": {
            "text/plain": [
              "array([0., 1., 1., 2.])"
            ]
          },
          "metadata": {},
          "execution_count": 16
        }
      ]
    },
    {
      "cell_type": "code",
      "source": [
        "np.dot(X, w[1:]) + w[0]"
      ],
      "metadata": {
        "colab": {
          "base_uri": "https://localhost:8080/"
        },
        "id": "ynLuUO7nUNGY",
        "outputId": "a314dadc-b888-433b-90b2-760f2f0ad90b"
      },
      "execution_count": null,
      "outputs": [
        {
          "output_type": "execute_result",
          "data": {
            "text/plain": [
              "array([-6.17561557e-16,  1.00000000e+00,  1.00000000e+00,  2.00000000e+00])"
            ]
          },
          "metadata": {},
          "execution_count": 17
        }
      ]
    },
    {
      "cell_type": "code",
      "source": [
        "np.where(np.dot(X, w[1:]) + w[0] > 0, 1, -1)"
      ],
      "metadata": {
        "colab": {
          "base_uri": "https://localhost:8080/"
        },
        "id": "SwXVqv7RUNJy",
        "outputId": "c1b848b1-fa69-40e6-96c1-42201e0a5a19"
      },
      "execution_count": null,
      "outputs": [
        {
          "output_type": "execute_result",
          "data": {
            "text/plain": [
              "array([-1,  1,  1,  1])"
            ]
          },
          "metadata": {},
          "execution_count": 18
        }
      ]
    },
    {
      "cell_type": "markdown",
      "source": [
        "### **2. 다층 퍼셉트론(Multi-Layer Perceptron)**\n",
        "- **XOR**"
      ],
      "metadata": {
        "id": "ulsApDQ7jS8X"
      }
    },
    {
      "cell_type": "code",
      "source": [
        "X = np.array([[0,0], [1,0], [0,1], [1,1]])\n",
        "Y = np.array([-1,1,1,-1])   # OR"
      ],
      "metadata": {
        "id": "QK91HBHgj3Fi"
      },
      "execution_count": null,
      "outputs": []
    },
    {
      "cell_type": "code",
      "source": [
        "def forward(x):\n",
        "  return np.dot(x, w[1:]) + w[0]\n",
        "\n",
        "def predict(X):\n",
        "  return np.where(forward(X) > 0, 1, -1)\n",
        "\n",
        "print(\"predict (before traning)\", w)\n",
        "\n",
        "for epoch in range(50):\n",
        "  for x_val, y_val in zip(X, Y):\n",
        "    update = 0.01 * (y_val - predict(x_val))\n",
        "    w[1:] += update * x_val\n",
        "    w[0] += update\n",
        "\n",
        "print(\"predict (after traning)\", w)\n",
        "np.where(np.dot(X, w[1:]) + w[0] > 0, 1, -1)"
      ],
      "metadata": {
        "colab": {
          "base_uri": "https://localhost:8080/"
        },
        "id": "qVkx4xtUj3IQ",
        "outputId": "2ea9c0aa-37bd-49ef-e833-68fd77401601"
      },
      "execution_count": null,
      "outputs": [
        {
          "output_type": "stream",
          "name": "stdout",
          "text": [
            "predict (before traning) [-6.17561557e-16  1.00000000e+00  1.00000000e+00]\n",
            "predict (after traning) [-0.34  0.34  0.32]\n"
          ]
        },
        {
          "output_type": "execute_result",
          "data": {
            "text/plain": [
              "array([-1, -1, -1,  1])"
            ]
          },
          "metadata": {},
          "execution_count": 20
        }
      ]
    },
    {
      "cell_type": "code",
      "source": [
        "import numpy as np\n",
        "\n",
        "X = np.array([[0, 0], [1, 0], [0, 1], [1, 1]])\n",
        "Y = np.array([-1, 1, 1, -1])  # XOR\n",
        "\n",
        "w = np.zeros(3)  # Add one more weight for the bias\n",
        "\n",
        "def forward(x):\n",
        "    return np.dot(x, w[1:]) + w[0]\n",
        "\n",
        "def predict(X):\n",
        "    return np.where(forward(X) > 0, 1, -1)\n",
        "\n",
        "print(\"predict (before training)\", predict(X))\n",
        "\n",
        "for epoch in range(50):\n",
        "    for x_val, y_val in zip(X, Y):\n",
        "        update = 0.01 * (y_val - predict(x_val))\n",
        "        w[1:] += update * x_val\n",
        "        w[0] += update\n",
        "\n",
        "print(\"predict (after training)\", predict(X))"
      ],
      "metadata": {
        "colab": {
          "base_uri": "https://localhost:8080/"
        },
        "id": "brU7hwfFj3Lg",
        "outputId": "e600e0f2-d7ff-4bb1-98cc-23db41577763"
      },
      "execution_count": null,
      "outputs": [
        {
          "output_type": "stream",
          "name": "stdout",
          "text": [
            "predict (before training) [-1 -1 -1 -1]\n",
            "predict (after training) [ 1  1 -1 -1]\n"
          ]
        }
      ]
    },
    {
      "cell_type": "code",
      "source": [
        "np.where(np.dot(X, w[1:]) + w[0] > 0, 1, -1)"
      ],
      "metadata": {
        "colab": {
          "base_uri": "https://localhost:8080/"
        },
        "id": "YmTJO-eek3HV",
        "outputId": "3dbca31d-cdab-4c75-902f-516897863a57"
      },
      "execution_count": null,
      "outputs": [
        {
          "output_type": "execute_result",
          "data": {
            "text/plain": [
              "array([ 1,  1, -1, -1])"
            ]
          },
          "metadata": {},
          "execution_count": 22
        }
      ]
    },
    {
      "cell_type": "code",
      "source": [
        "import numpy as np\n",
        "\n",
        "class Perceptron():\n",
        "    def __init__(self, threshold=0.0, eta=0.01, n_iter=100):\n",
        "        self.threshold = threshold\n",
        "        self.eta = eta\n",
        "        self.n_iter = n_iter\n",
        "\n",
        "    def fit(self, X, y):\n",
        "        self.w_ = np.zeros(1 + X.shape[1])\n",
        "        self.errors_ = []\n",
        "\n",
        "        for _ in range(self.n_iter):\n",
        "            errors = 0\n",
        "            for xi, target in zip(X, y):\n",
        "                update = self.eta * (target - self.predict(xi))\n",
        "                self.w_[1:] += update * xi\n",
        "                self.w_[0] += update\n",
        "                errors += int(update != 0.0)\n",
        "            self.errors_.append(errors)\n",
        "            #print(self.w_)\n",
        "\n",
        "        return self\n",
        "\n",
        "    def net_input(self, X):\n",
        "        return np.dot(X, self.w_[1:]) + self.w_[0]\n",
        "\n",
        "    def predict(self, X):\n",
        "        return np.where(self.net_input(X) > self.threshold, 1, -1)\n",
        "\n",
        "if __name__ == '__main__':\n",
        "    X = np.array([[0, 0], [0, 1], [1, 0], [1, 1]])\n",
        "    y = np.array([1, -1, -1, 1])  # Updated the target values for the XOR logic\n",
        "\n",
        "\n",
        "    ppn = Perceptron()\n",
        "    ppn.fit(X, y)\n",
        "    print(ppn.errors_)"
      ],
      "metadata": {
        "colab": {
          "base_uri": "https://localhost:8080/"
        },
        "id": "E1gyszf8OH8u",
        "outputId": "4c479995-41b1-4fb1-aa1f-15c946727340"
      },
      "execution_count": null,
      "outputs": [
        {
          "output_type": "stream",
          "name": "stdout",
          "text": [
            "[3, 3, 4, 4, 4, 4, 4, 4, 4, 4, 4, 4, 4, 4, 4, 4, 4, 4, 4, 4, 4, 4, 4, 4, 4, 4, 4, 4, 4, 4, 4, 4, 4, 4, 4, 4, 4, 4, 4, 4, 4, 4, 4, 4, 4, 4, 4, 4, 4, 4, 4, 4, 4, 4, 4, 4, 4, 4, 4, 4, 4, 4, 4, 4, 4, 4, 4, 4, 4, 4, 4, 4, 4, 4, 4, 4, 4, 4, 4, 4, 4, 4, 4, 4, 4, 4, 4, 4, 4, 4, 4, 4, 4, 4, 4, 4, 4, 4, 4, 4]\n"
          ]
        }
      ]
    },
    {
      "cell_type": "code",
      "source": [
        "ppn.predict(X)"
      ],
      "metadata": {
        "colab": {
          "base_uri": "https://localhost:8080/"
        },
        "id": "uKNv3_SEPPul",
        "outputId": "146a344d-a6f6-43d6-d637-3fb2b4990bc3"
      },
      "execution_count": null,
      "outputs": [
        {
          "output_type": "execute_result",
          "data": {
            "text/plain": [
              "array([-1, -1,  1,  1])"
            ]
          },
          "metadata": {},
          "execution_count": 24
        }
      ]
    },
    {
      "cell_type": "code",
      "execution_count": null,
      "metadata": {
        "id": "ajtRNKXNPMwX"
      },
      "outputs": [],
      "source": [
        "import numpy as np\n",
        "\n",
        "# Define the sigmoid activation function and its derivative\n",
        "def sigmoid(x):\n",
        "    return 1 / (1 + np.exp(-x))\n",
        "\n",
        "def sigmoid_derivative(x):\n",
        "    return x * (1 - x)"
      ]
    },
    {
      "cell_type": "code",
      "execution_count": null,
      "metadata": {
        "colab": {
          "base_uri": "https://localhost:8080/"
        },
        "id": "XP06B0ELPP6g",
        "outputId": "b0014cac-e32e-4a94-fd1d-9ef5ef3b96c5"
      },
      "outputs": [
        {
          "output_type": "stream",
          "name": "stdout",
          "text": [
            "Predicted XOR output:\n",
            "[[0.05587262]\n",
            " [0.94889185]\n",
            " [0.94882355]\n",
            " [0.05494899]]\n"
          ]
        }
      ],
      "source": [
        "# Define the XOR input and output\n",
        "X = np.array([[0, 0], [0, 1], [1, 0], [1, 1]])\n",
        "\n",
        "# The corresponding XOR outputs\n",
        "y = np.array([[0],[1], [1], [0]]) #y = np.array([0, 1, 1, 0])\n",
        "\n",
        "# Set the random seed for reproducibility\n",
        "np.random.seed(42)\n",
        "\n",
        "# Initialize weights and biases with random values\n",
        "input_size = 2\n",
        "hidden_size = 2\n",
        "output_size = 1\n",
        "\n",
        "weights_input_hidden = np.random.uniform(size=(input_size, hidden_size))\n",
        "bias_hidden = np.zeros((1, hidden_size))\n",
        "\n",
        "weights_hidden_output = np.random.uniform(size=(hidden_size, output_size))\n",
        "bias_output = np.zeros((1, output_size))\n",
        "\n",
        "# Set hyperparameters\n",
        "learning_rate = 0.1\n",
        "epochs = 10000\n",
        "\n",
        "# Training the neural network\n",
        "for epoch in range(epochs):\n",
        "    # Forward pass\n",
        "    hidden_layer_input = np.dot(X, weights_input_hidden) + bias_hidden\n",
        "    hidden_layer_output = sigmoid(hidden_layer_input)\n",
        "\n",
        "    output_layer_input = np.dot(hidden_layer_output, weights_hidden_output) + bias_output\n",
        "    predicted_output = sigmoid(output_layer_input)\n",
        "\n",
        "    # Calculate the error\n",
        "    error = y - predicted_output\n",
        "\n",
        "    # Backpropagation\n",
        "    output_error = error * sigmoid_derivative(predicted_output)\n",
        "    hidden_layer_error = output_error.dot(weights_hidden_output.T) * sigmoid_derivative(hidden_layer_output)\n",
        "\n",
        "    # Update weights and biases\n",
        "    weights_hidden_output += hidden_layer_output.T.dot(output_error) * learning_rate\n",
        "    bias_output += np.sum(output_error, axis=0, keepdims=True) * learning_rate\n",
        "\n",
        "    weights_input_hidden += X.T.dot(hidden_layer_error) * learning_rate\n",
        "    bias_hidden += np.sum(hidden_layer_error, axis=0, keepdims=True) * learning_rate\n",
        "\n",
        "# Testing the neural network\n",
        "test_input = np.array([[0, 0],\n",
        "                       [0, 1],\n",
        "                       [1, 0],\n",
        "                       [1, 1]])\n",
        "\n",
        "hidden_layer_input_test = np.dot(test_input, weights_input_hidden) + bias_hidden\n",
        "hidden_layer_output_test = sigmoid(hidden_layer_input_test)\n",
        "\n",
        "output_layer_input_test = np.dot(hidden_layer_output_test, weights_hidden_output) + bias_output\n",
        "predicted_output_test = sigmoid(output_layer_input_test)\n",
        "\n",
        "# Display the predicted output\n",
        "print(\"Predicted XOR output:\")\n",
        "print(predicted_output_test)"
      ]
    },
    {
      "cell_type": "markdown",
      "source": [
        "- Dense: This represents a fully connected layer, where each neuron in the layer is connected to every neuron in the previous layer.\n",
        "\n",
        "- 8: This specifies the number of neurons (units) in the layer. In this case, there are 8 neurons in the first hidden layer.\n",
        "\n",
        "- input_dim=2: This is the number of input features. In this example, you have 2 input features (X has shape (4, 2)), so the input_dim is set to 2."
      ],
      "metadata": {
        "id": "LXbfgaFopmmn"
      }
    },
    {
      "cell_type": "code",
      "execution_count": null,
      "metadata": {
        "id": "S1pKcKCMPvo-",
        "colab": {
          "base_uri": "https://localhost:8080/"
        },
        "outputId": "d21dcfc1-4c03-44bb-e656-25d125e276f2"
      },
      "outputs": [
        {
          "output_type": "stream",
          "name": "stdout",
          "text": [
            "\u001b[1m1/1\u001b[0m \u001b[32m━━━━━━━━━━━━━━━━━━━━\u001b[0m\u001b[37m\u001b[0m \u001b[1m0s\u001b[0m 172ms/step - accuracy: 0.5000 - loss: 0.6891\n",
            "Loss: 0.6890804767608643, Accuracy: 0.5\n",
            "\u001b[1m1/1\u001b[0m \u001b[32m━━━━━━━━━━━━━━━━━━━━\u001b[0m\u001b[37m\u001b[0m \u001b[1m0s\u001b[0m 68ms/step\n",
            "Predictions:\n",
            "[0. 0. 1. 1.]\n"
          ]
        }
      ],
      "source": [
        "import numpy as np\n",
        "from keras.models import Sequential\n",
        "from keras.layers import Dense\n",
        "\n",
        "# XOR input and output\n",
        "X = np.array([[0, 0], [0, 1], [1, 0], [1, 1]])\n",
        "Y = np.array([0, 1, 1, 0])\n",
        "\n",
        "# Define the model\n",
        "model = Sequential()\n",
        "model.add(Dense(8, input_dim=2, activation='relu'))\n",
        "model.add(Dense(1, activation='sigmoid'))\n",
        "\n",
        "# Compile the model\n",
        "model.compile(loss='binary_crossentropy', optimizer='adam', metrics=['accuracy'])\n",
        "\n",
        "# Train the model\n",
        "model.fit(X, Y, epochs=100, verbose=0)\n",
        "\n",
        "# Evaluate the model\n",
        "loss, accuracy = model.evaluate(X, Y)\n",
        "print(f\"Loss: {loss}, Accuracy: {accuracy}\")\n",
        "\n",
        "# Make predictions\n",
        "predictions = model.predict(X)\n",
        "rounded_predictions = np.round(predictions)\n",
        "print(\"Predictions:\")\n",
        "print(rounded_predictions.flatten())"
      ]
    },
    {
      "cell_type": "code",
      "source": [
        "# Compile the model\n",
        "model.compile(loss='binary_crossentropy',\n",
        "              optimizer='adam',\n",
        "              metrics=['accuracy'])\n",
        "\n",
        "# Train the model and capture the history\n",
        "history = model.fit(X, Y, epochs=100, verbose=0)\n",
        "\n",
        "# Evaluate the model\n",
        "loss, accuracy = model.evaluate(X, Y)\n",
        "print(f\"Loss: {loss}, Accuracy: {accuracy}\")\n",
        "\n",
        "# Make predictions\n",
        "predictions = model.predict(X)\n",
        "rounded_predictions = np.round(predictions)\n",
        "print(\"Predictions:\", rounded_predictions)"
      ],
      "metadata": {
        "colab": {
          "base_uri": "https://localhost:8080/"
        },
        "id": "RUYrgc6em7wS",
        "outputId": "252696ea-df27-425f-c7e2-faa09c33190f"
      },
      "execution_count": null,
      "outputs": [
        {
          "output_type": "stream",
          "name": "stdout",
          "text": [
            "\u001b[1m1/1\u001b[0m \u001b[32m━━━━━━━━━━━━━━━━━━━━\u001b[0m\u001b[37m\u001b[0m \u001b[1m0s\u001b[0m 187ms/step - accuracy: 1.0000 - loss: 0.4054\n",
            "Loss: 0.40537750720977783, Accuracy: 1.0\n",
            "\u001b[1m1/1\u001b[0m \u001b[32m━━━━━━━━━━━━━━━━━━━━\u001b[0m\u001b[37m\u001b[0m \u001b[1m0s\u001b[0m 85ms/step\n",
            "Predictions: [[0.]\n",
            " [1.]\n",
            " [1.]\n",
            " [0.]]\n"
          ]
        }
      ]
    },
    {
      "cell_type": "code",
      "source": [
        "\n",
        "# Plot training history\n",
        "plt.figure(figsize=(12, 4))\n",
        "\n",
        "# Plot training loss\n",
        "plt.subplot(1, 2, 1)\n",
        "plt.plot(history.history['loss'])\n",
        "plt.title('Training Loss(Binary_crossentrop = Logloss)')\n",
        "plt.xlabel('Epoch')\n",
        "plt.ylabel('Loss')\n",
        "\n",
        "# Plot training accuracy\n",
        "plt.subplot(1, 2, 2)\n",
        "plt.plot(history.history['accuracy'])\n",
        "plt.title('Training Accuracy')\n",
        "plt.xlabel('Epoch')\n",
        "plt.ylabel('Accuracy')\n",
        "\n",
        "plt.tight_layout()\n",
        "plt.show()"
      ],
      "metadata": {
        "id": "asScJC3NamnI",
        "outputId": "890c45f7-96bb-4e62-8e25-7ca5489d457d",
        "colab": {
          "base_uri": "https://localhost:8080/",
          "height": 407
        }
      },
      "execution_count": null,
      "outputs": [
        {
          "output_type": "display_data",
          "data": {
            "text/plain": [
              "<Figure size 1200x400 with 2 Axes>"
            ],
            "image/png": "[encoded data removed]"
          },
          "metadata": {}
        }
      ]
    },
    {
      "cell_type": "code",
      "source": [],
      "metadata": {
        "id": "JhodE2E1n-iz"
      },
      "execution_count": null,
      "outputs": []
    }
  ],
  "metadata": {
    "colab": {
      "provenance": [],
      "authorship_tag": "ABX9TyPCxm5XbEoE7rRr/KMMpXoI",
      "include_colab_link": true
    },
    "kernelspec": {
      "display_name": "Python 3",
      "name": "python3"
    },
    "language_info": {
      "name": "python"
    }
  },
  "nbformat": 4,
  "nbformat_minor": 0
}