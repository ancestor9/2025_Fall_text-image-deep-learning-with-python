{
  "nbformat": 4,
  "nbformat_minor": 0,
  "metadata": {
    "colab": {
      "provenance": [],
      "authorship_tag": "ABX9TyNy9RwNSwYSuOoSnn+8O561",
      "include_colab_link": true
    },
    "kernelspec": {
      "name": "python3",
      "display_name": "Python 3"
    },
    "language_info": {
      "name": "python"
    }
  },
  "cells": [
    {
      "cell_type": "markdown",
      "metadata": {
        "id": "view-in-github",
        "colab_type": "text"
      },
      "source": [
        "<a href=\"https://colab.research.google.com/github/ancestor9/2025_Fall_text-image-deep-learning-with-python/blob/main/week01/%EB%8B%A8%EC%88%9C%ED%9A%8C%EA%B7%80%EC%8B%9D%EA%B5%AC%ED%95%98%EA%B8%B0.ipynb\" target=\"_parent\"><img src=\"https://colab.research.google.com/assets/colab-badge.svg\" alt=\"Open In Colab\"/></a>"
      ]
    },
    {
      "cell_type": "code",
      "execution_count": 1,
      "metadata": {
        "colab": {
          "base_uri": "https://localhost:8080/"
        },
        "id": "h4ZoaaSb_j9Q",
        "outputId": "f2e37e87-d831-416a-908a-3e36e5940da2"
      },
      "outputs": [
        {
          "output_type": "stream",
          "name": "stdout",
          "text": [
            "기울기 (a): 1.23\n",
            "절편 (b): 1.64\n"
          ]
        }
      ],
      "source": [
        "import sympy as sp\n",
        "\n",
        "# 데이터 정의\n",
        "X = [2, 3, 4, 5, 7]\n",
        "Y = [4, 6, 5, 9, 10]\n",
        "\n",
        "# 변수 a(기울기)와 b(절편)를 sympy의 심볼로 정의\n",
        "a, b = sp.symbols('a b')\n",
        "\n",
        "# 오차 함수 (제곱 오차의 합) 정의\n",
        "error_func = sum([(Y[i] - (a * X[i] + b))**2 for i in range(len(X))])\n",
        "\n",
        "# 오차 함수를 a와 b에 대해 각각 미분\n",
        "diff_a = sp.diff(error_func, a)\n",
        "diff_b = sp.diff(error_func, b)\n",
        "\n",
        "# 미분값이 0이 되는 연립방정식 풀기\n",
        "solution = sp.solve((diff_a, diff_b), (a, b))\n",
        "\n",
        "# 결과 출력\n",
        "print(f\"기울기 (a): {solution[a]:.2f}\")\n",
        "print(f\"절편 (b): {solution[b]:.2f}\")"
      ]
    },
    {
      "cell_type": "code",
      "source": [
        "from sklearn.linear_model import LinearRegression\n",
        "import numpy as np\n",
        "\n",
        "# 데이터 정의 (numpy array로 변환)\n",
        "X = np.array([2, 3, 4, 5, 7]).reshape(-1, 1) # scikit-learn은 2D array를 기대합니다.\n",
        "Y = np.array([4, 6, 5, 9, 10])\n",
        "\n",
        "# LinearRegression 모델 생성\n",
        "model = LinearRegression()\n",
        "\n",
        "# 모델 학습\n",
        "model.fit(X, Y)\n",
        "\n",
        "# 결과 출력\n",
        "print(f\"기울기 (a): {model.coef_[0]:.2f}\")\n",
        "print(f\"절편 (b): {model.intercept_:.2f}\")"
      ],
      "metadata": {
        "colab": {
          "base_uri": "https://localhost:8080/"
        },
        "id": "qEn6WCwL_ocj",
        "outputId": "c7f447da-3838-40af-bf0e-1e550934013a"
      },
      "execution_count": 2,
      "outputs": [
        {
          "output_type": "stream",
          "name": "stdout",
          "text": [
            "기울기 (a): 1.23\n",
            "절편 (b): 1.64\n"
          ]
        }
      ]
    },
    {
      "cell_type": "code",
      "source": [
        "import numpy as np\n",
        "\n",
        "# 데이터 정의\n",
        "X = np.array([2, 3, 4, 5, 7])\n",
        "Y = np.array([4, 6, 5, 9, 10])\n",
        "\n",
        "# 초기 기울기와 절편 설정 (임의의 값)\n",
        "a = 0\n",
        "b = 0\n",
        "\n",
        "# 학습률(learning_rate) 설정\n",
        "# 한 번의 업데이트마다 이동할 보폭을 결정\n",
        "learning_rate = 0.01\n",
        "\n",
        "# 반복 횟수 설정\n",
        "epochs = 1000\n",
        "\n",
        "# 경사하강법 시뮬레이션\n",
        "for i in range(epochs):\n",
        "    # 예측값 계산\n",
        "    y_pred = a * X + b\n",
        "\n",
        "    # 오차 계산\n",
        "    error = y_pred - Y\n",
        "\n",
        "    # 비용 함수(제곱 오차)를 a와 b에 대해 미분한 값(경사) 계산\n",
        "    # 경사는 오차를 기반으로 계산되며, 오차가 클수록 경사도 커집니다.\n",
        "    gradient_a = np.sum(error * X) / len(X)\n",
        "    gradient_b = np.sum(error) / len(X)\n",
        "\n",
        "    # 기울기와 절편 업데이트\n",
        "    a = a - learning_rate * gradient_a\n",
        "    b = b - learning_rate * gradient_b\n",
        "\n",
        "# 최종 결과 출력\n",
        "print(f\"기울기 (a): {a:.2f}\")\n",
        "print(f\"절편 (b): {b:.2f}\")"
      ],
      "metadata": {
        "colab": {
          "base_uri": "https://localhost:8080/"
        },
        "id": "5VxY_Em6Ae-E",
        "outputId": "99b6f723-0bd7-451b-c599-9c310ed0873d"
      },
      "execution_count": 5,
      "outputs": [
        {
          "output_type": "stream",
          "name": "stdout",
          "text": [
            "기울기 (a): 1.30\n",
            "절편 (b): 1.30\n"
          ]
        }
      ]
    },
    {
      "cell_type": "code",
      "metadata": {
        "colab": {
          "base_uri": "https://localhost:8080/"
        },
        "id": "4b4613c9",
        "outputId": "acef5bb6-f945-4d7e-d094-d64d9ab80fe0"
      },
      "source": [
        "import numpy as np\n",
        "\n",
        "def calculate_slope_intercept(X, Y):\n",
        "  \"\"\"\n",
        "  Calculates the slope and intercept of a linear regression line using NumPy.\n",
        "\n",
        "  Args:\n",
        "    X: A NumPy array of the independent variable.\n",
        "    Y: A NumPy array of the dependent variable.\n",
        "\n",
        "  Returns:\n",
        "    A tuple containing the slope (a) and intercept (b).\n",
        "  \"\"\"\n",
        "  n = len(X)\n",
        "  # Calculate the means of X and Y\n",
        "  mean_X = np.mean(X)\n",
        "  mean_Y = np.mean(Y)\n",
        "\n",
        "  # Calculate the numerator and denominator for the slope (a)\n",
        "  numerator = np.sum((X - mean_X) * (Y - mean_Y))\n",
        "  denominator = np.sum((X - mean_X)**2)\n",
        "\n",
        "  # Calculate the slope (a)\n",
        "  a = numerator / denominator\n",
        "\n",
        "  # Calculate the intercept (b)\n",
        "  b = mean_Y - a * mean_X\n",
        "\n",
        "  return a, b\n",
        "\n",
        "# 데이터 정의\n",
        "X = np.array([2, 3, 4, 5, 7])\n",
        "Y = np.array([4, 6, 5, 9, 10])\n",
        "\n",
        "# 사용자 정의 함수를 사용하여 기울기와 절편 계산\n",
        "slope, intercept = calculate_slope_intercept(X, Y)\n",
        "\n",
        "# 결과 출력\n",
        "print(f\"기울기 (a): {slope:.2f}\")\n",
        "print(f\"절편 (b): {intercept:.2f}\")"
      ],
      "execution_count": 3,
      "outputs": [
        {
          "output_type": "stream",
          "name": "stdout",
          "text": [
            "기울기 (a): 1.23\n",
            "절편 (b): 1.64\n"
          ]
        }
      ]
    },
    {
      "cell_type": "code",
      "metadata": {
        "colab": {
          "base_uri": "https://localhost:8080/",
          "height": 472
        },
        "id": "f9b4e29e",
        "outputId": "883a2ba6-8c89-430a-e227-fd2311eebdb8"
      },
      "source": [
        "import matplotlib.pyplot as plt\n",
        "import numpy as np\n",
        "\n",
        "# Original data\n",
        "X = np.array([2, 3, 4, 5, 7])\n",
        "Y = np.array([4, 6, 5, 9, 10])\n",
        "\n",
        "# Calculate predicted Y values using the slope and intercept from the previous step\n",
        "# Using the slope and intercept from the custom function for consistency\n",
        "slope = 1.23 # Using the rounded value from the previous output\n",
        "intercept = 1.64 # Using the rounded value from the previous output\n",
        "\n",
        "Y_pred = slope * X + intercept\n",
        "\n",
        "# Plotting the original data and the regression line\n",
        "plt.scatter(X, Y, label='Original Data')\n",
        "plt.plot(X, Y_pred, color='red', label='Regression Line')\n",
        "plt.xlabel('X')\n",
        "plt.ylabel('Y')\n",
        "plt.title('Linear Regression: Original Data vs. Predicted Data')\n",
        "plt.legend()\n",
        "plt.grid(True)\n",
        "plt.show()"
      ],
      "execution_count": 4,
      "outputs": [
        {
          "output_type": "display_data",
          "data": {
            "text/plain": [
              "<Figure size 640x480 with 1 Axes>"
            ],
            "image/png": "[encoded data removed]"
          },
          "metadata": {}
        }
      ]
    }
  ]
}